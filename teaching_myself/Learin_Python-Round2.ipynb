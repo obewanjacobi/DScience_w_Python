{
 "cells": [
  {
   "cell_type": "markdown",
   "metadata": {},
   "source": [
    "# Teaching Myself Python Basics\n",
    "\n",
    "## Intro\n",
    "\n",
    "The Coursera course taught by the University of Michigan wasn't really doing it for me. So I decided to start from scratch with this handy notebook, where I will lay down the Python basics to remind myself how things work. Ideally this will help me in the longrun when taking the upper level courses for the University of Michigan's Data Science with Python (especially because they don't go into too much detail in the course). My work here will be based off of the lessons on the website www.learnpython.org. So without further ado, let's get started! (Note for Jacob: Ctrl-m m makes a Markdown cell.) \n",
    "\n",
    "**Aside**:\n",
    "\n",
    "For new users checkin this notebook out, if you would like to play with it in dark mode (rather than the bright default Jupyter offers us), run the below cell and reboot Jupyter."
   ]
  },
  {
   "cell_type": "code",
   "execution_count": null,
   "metadata": {},
   "outputs": [],
   "source": [
    "!pip install jupyterthemes\n",
    "!jt -t chesterish"
   ]
  },
  {
   "cell_type": "markdown",
   "metadata": {},
   "source": [
    "## Learning the Basics\n",
    "\n",
    "### Hello World!\n",
    "\n",
    "Let's start from the absolute bottom up so that absolutely no stone is left unturned. We'll do this by opening up our window, looking outside, and giving a hearty \"Hello World!\""
   ]
  },
  {
   "cell_type": "code",
   "execution_count": 1,
   "metadata": {},
   "outputs": [
    {
     "name": "stdout",
     "output_type": "stream",
     "text": [
      "Hello World!\n"
     ]
    }
   ],
   "source": [
    "print(\"Hello World!\")"
   ]
  },
  {
   "cell_type": "markdown",
   "metadata": {},
   "source": [
    "Easy peasy. That print statement will do exactly what it says; print out what you put inside. Now unlike R, we don't need braces or anything around things like if statements. Instead they just need to be indented:"
   ]
  },
  {
   "cell_type": "code",
   "execution_count": 2,
   "metadata": {},
   "outputs": [
    {
     "name": "stdout",
     "output_type": "stream",
     "text": [
      "x is 1.\n"
     ]
    }
   ],
   "source": [
    "x = 1\n",
    "if x == 1:\n",
    "    # indented four spaces\n",
    "    print(\"x is 1.\")"
   ]
  },
  {
   "cell_type": "markdown",
   "metadata": {},
   "source": [
    "### Variables and Types\n",
    "Python is object oriented, so luckily this part is pretty straight forward. I'll try to speed through this part."
   ]
  },
  {
   "cell_type": "code",
   "execution_count": 3,
   "metadata": {},
   "outputs": [
    {
     "name": "stdout",
     "output_type": "stream",
     "text": [
      "<class 'int'>\n",
      "<class 'float'>\n",
      "<class 'float'>\n"
     ]
    }
   ],
   "source": [
    "### Numbers:\n",
    "\n",
    "myint = 5\n",
    "myfloat = 5.0 #or\n",
    "myfloat2_thefloatening = float(5)\n",
    "\n",
    "print(type(myint))\n",
    "print(type(myfloat))\n",
    "print(type(myfloat2_thefloatening))"
   ]
  },
  {
   "cell_type": "code",
   "execution_count": 4,
   "metadata": {},
   "outputs": [
    {
     "name": "stdout",
     "output_type": "stream",
     "text": [
      "hello!\n",
      "hello!\n"
     ]
    }
   ],
   "source": [
    "### Strings:\n",
    "\n",
    "howdy = 'hello!'\n",
    "nihao = \"hello!\"\n",
    "\n",
    "# Notice both '' and \"\" will work when making strings. Just be aware to use \"\" if you have apostrophes.\n",
    "\n",
    "print(howdy)\n",
    "print(nihao) "
   ]
  },
  {
   "cell_type": "code",
   "execution_count": 5,
   "metadata": {},
   "outputs": [
    {
     "data": {
      "text/plain": [
       "NoneType"
      ]
     },
     "execution_count": 5,
     "metadata": {},
     "output_type": "execute_result"
    }
   ],
   "source": [
    "### None:\n",
    "depression = None\n",
    "# Explains itself\n",
    "type(depression)"
   ]
  },
  {
   "cell_type": "code",
   "execution_count": 6,
   "metadata": {},
   "outputs": [
    {
     "name": "stdout",
     "output_type": "stream",
     "text": [
      "3\n",
      "hello world\n",
      "3 4\n"
     ]
    }
   ],
   "source": [
    "### Variable Operations:\n",
    "\n",
    "one = 1\n",
    "two = 2\n",
    "three = one + two\n",
    "print(three)\n",
    "\n",
    "hello = \"hello\"\n",
    "world = \"world\"\n",
    "helloworld = hello + \" \" + world\n",
    "print(helloworld)\n",
    "\n",
    "# We can even assign multiple variables at once\n",
    "\n",
    "a, b = 3, 4\n",
    "print(a,b)"
   ]
  },
  {
   "cell_type": "markdown",
   "metadata": {},
   "source": [
    "It's important to note that mixing operations between numbers and strings won't work. "
   ]
  },
  {
   "cell_type": "code",
   "execution_count": 7,
   "metadata": {},
   "outputs": [
    {
     "ename": "TypeError",
     "evalue": "unsupported operand type(s) for +: 'int' and 'str'",
     "output_type": "error",
     "traceback": [
      "\u001b[1;31m---------------------------------------------------------------------------\u001b[0m",
      "\u001b[1;31mTypeError\u001b[0m                                 Traceback (most recent call last)",
      "\u001b[1;32m<ipython-input-7-fa035bb013ee>\u001b[0m in \u001b[0;36m<module>\u001b[1;34m()\u001b[0m\n\u001b[0;32m      4\u001b[0m \u001b[0mhello\u001b[0m \u001b[1;33m=\u001b[0m \u001b[1;34m\"hello\"\u001b[0m\u001b[1;33m\u001b[0m\u001b[0m\n\u001b[0;32m      5\u001b[0m \u001b[1;33m\u001b[0m\u001b[0m\n\u001b[1;32m----> 6\u001b[1;33m \u001b[0mprint\u001b[0m\u001b[1;33m(\u001b[0m\u001b[0mone\u001b[0m \u001b[1;33m+\u001b[0m \u001b[0mtwo\u001b[0m \u001b[1;33m+\u001b[0m \u001b[0mhello\u001b[0m\u001b[1;33m)\u001b[0m\u001b[1;33m\u001b[0m\u001b[0m\n\u001b[0m",
      "\u001b[1;31mTypeError\u001b[0m: unsupported operand type(s) for +: 'int' and 'str'"
     ]
    }
   ],
   "source": [
    "# This will not work!\n",
    "one = 1\n",
    "two = 2\n",
    "hello = \"hello\"\n",
    "\n",
    "print(one + two + hello)"
   ]
  },
  {
   "cell_type": "markdown",
   "metadata": {},
   "source": [
    "That being said, we can convert numbers into strings to accomplish this task!"
   ]
  },
  {
   "cell_type": "code",
   "execution_count": 8,
   "metadata": {},
   "outputs": [
    {
     "name": "stdout",
     "output_type": "stream",
     "text": [
      "3\n",
      "h3llo\n"
     ]
    }
   ],
   "source": [
    "# This will work!\n",
    "one = 1\n",
    "two = 2\n",
    "three = str(one + two)\n",
    "\n",
    "print(three)\n",
    "print('h' + three + 'llo')"
   ]
  },
  {
   "cell_type": "markdown",
   "metadata": {},
   "source": [
    "#### Exercise\n",
    "\n",
    "The target of this exercise is to create a string, an integer, and a floating point number. The string should be named `mystring` and should contain the word \"hello\". The floating point number should be named `myfloat` and should contain the number 10.0, and the integer should be named `myint` and should contain the number 20. Easy right? Solution is below:"
   ]
  },
  {
   "cell_type": "code",
   "execution_count": 9,
   "metadata": {},
   "outputs": [
    {
     "name": "stdout",
     "output_type": "stream",
     "text": [
      "String: hello\n",
      "Float: 10.000000\n",
      "Integer: 20\n"
     ]
    }
   ],
   "source": [
    "mystring = 'hello'\n",
    "myfloat = float(10)\n",
    "myint = 20\n",
    "\n",
    "# testing code\n",
    "if mystring == \"hello\":\n",
    "    print(\"String: %s\" % mystring)\n",
    "if isinstance(myfloat, float) and myfloat == 10.0:\n",
    "    print(\"Float: %f\" % myfloat)\n",
    "if isinstance(myint, int) and myint == 20:\n",
    "    print(\"Integer: %d\" % myint)"
   ]
  },
  {
   "cell_type": "markdown",
   "metadata": {},
   "source": [
    "### Lists\n",
    "\n",
    "Lists are sort of like vectors in R or arrays in other languages. They contain any type of variable, and can contain as many variables as your PC can handle. Here's how to build an easy starter list."
   ]
  },
  {
   "cell_type": "code",
   "execution_count": 10,
   "metadata": {},
   "outputs": [
    {
     "name": "stdout",
     "output_type": "stream",
     "text": [
      "1\n",
      "2\n",
      "3\n"
     ]
    }
   ],
   "source": [
    "mylist = []\n",
    "mylist.append(1)\n",
    "mylist.append(2)\n",
    "mylist.append(3)\n",
    "print(mylist[0]) # prints 1\n",
    "print(mylist[1]) # prints 2\n",
    "print(mylist[2]) # prints 3"
   ]
  },
  {
   "cell_type": "code",
   "execution_count": 11,
   "metadata": {},
   "outputs": [
    {
     "name": "stdout",
     "output_type": "stream",
     "text": [
      "1\n",
      "2\n",
      "3\n"
     ]
    }
   ],
   "source": [
    "# prints out 1,2,3\n",
    "for x in mylist:\n",
    "    print(x)"
   ]
  },
  {
   "cell_type": "markdown",
   "metadata": {},
   "source": [
    "You can also make a list in one single lined statement such as the following."
   ]
  },
  {
   "cell_type": "code",
   "execution_count": 12,
   "metadata": {},
   "outputs": [],
   "source": [
    "mylist = [1,2,3]"
   ]
  },
  {
   "cell_type": "markdown",
   "metadata": {},
   "source": [
    "Accessing an index which does not exist generates an exception (an error)."
   ]
  },
  {
   "cell_type": "code",
   "execution_count": 13,
   "metadata": {},
   "outputs": [
    {
     "ename": "IndexError",
     "evalue": "list index out of range",
     "output_type": "error",
     "traceback": [
      "\u001b[1;31m---------------------------------------------------------------------------\u001b[0m",
      "\u001b[1;31mIndexError\u001b[0m                                Traceback (most recent call last)",
      "\u001b[1;32m<ipython-input-13-ac9eeac6db06>\u001b[0m in \u001b[0;36m<module>\u001b[1;34m()\u001b[0m\n\u001b[0;32m      1\u001b[0m \u001b[0mmylist\u001b[0m \u001b[1;33m=\u001b[0m \u001b[1;33m[\u001b[0m\u001b[1;36m1\u001b[0m\u001b[1;33m,\u001b[0m\u001b[1;36m2\u001b[0m\u001b[1;33m,\u001b[0m\u001b[1;36m3\u001b[0m\u001b[1;33m]\u001b[0m\u001b[1;33m\u001b[0m\u001b[0m\n\u001b[1;32m----> 2\u001b[1;33m \u001b[0mprint\u001b[0m\u001b[1;33m(\u001b[0m\u001b[0mmylist\u001b[0m\u001b[1;33m[\u001b[0m\u001b[1;36m10\u001b[0m\u001b[1;33m]\u001b[0m\u001b[1;33m)\u001b[0m\u001b[1;33m\u001b[0m\u001b[0m\n\u001b[0m",
      "\u001b[1;31mIndexError\u001b[0m: list index out of range"
     ]
    }
   ],
   "source": [
    "mylist = [1,2,3]\n",
    "print(mylist[10])"
   ]
  },
  {
   "cell_type": "markdown",
   "metadata": {},
   "source": [
    "#### Exercise\n",
    "\n",
    "In this exercise, you will need to add numbers and strings to the correct lists using the \"append\" list method. You must add the number 3 to the \"numbers\" list, and the word 'world' to the strings variable.\n",
    "\n",
    "You will also have to fill in the variable second_name with the second name in the names list, using the brackets operator `[]`. **Note that the index is zero-based, so if you want to access the second item in the list, its index will be 1**."
   ]
  },
  {
   "cell_type": "code",
   "execution_count": 14,
   "metadata": {},
   "outputs": [
    {
     "name": "stdout",
     "output_type": "stream",
     "text": [
      "[1, 2, 3]\n",
      "['hello', 'world']\n",
      "The second name on the names list is Eric\n"
     ]
    }
   ],
   "source": [
    "numbers = [1,2]\n",
    "strings = ['hello']\n",
    "names = [\"John\", \"Eric\", \"Jessica\"]\n",
    "\n",
    "# write your code here\n",
    "second_name = names[1]\n",
    "numbers.append(3)\n",
    "strings.append('world')\n",
    "\n",
    "# this code should write out the filled arrays and the second name in the names list (Eric).\n",
    "print(numbers)\n",
    "print(strings)\n",
    "print(\"The second name on the names list is %s\" % second_name)"
   ]
  },
  {
   "cell_type": "markdown",
   "metadata": {},
   "source": [
    "### Basic Operators\n",
    "\n",
    "We've touched on a few simple operations so far, so let's dive a little further in now. "
   ]
  },
  {
   "cell_type": "markdown",
   "metadata": {},
   "source": [
    "#### Arithmetic Operators\n",
    "\n",
    "These are the ones we should all be familiar with, the mathematical operators of addition, subtraction, multiplication, and division. Don't forget when using these to keep PEMDAS in mind! That is, keep in mind your order of operations, as Python will follow it."
   ]
  },
  {
   "cell_type": "code",
   "execution_count": 15,
   "metadata": {},
   "outputs": [
    {
     "name": "stdout",
     "output_type": "stream",
     "text": [
      "2.5\n"
     ]
    }
   ],
   "source": [
    "number = 1 + (2 * 3 / 4.0)\n",
    "print(number)"
   ]
  },
  {
   "cell_type": "markdown",
   "metadata": {},
   "source": [
    "A more complicated operation is the modulo operator (`%`) which returns the integer remainder of the division of two numbers: dividend % divisor = remainder."
   ]
  },
  {
   "cell_type": "code",
   "execution_count": 16,
   "metadata": {},
   "outputs": [
    {
     "name": "stdout",
     "output_type": "stream",
     "text": [
      "2\n"
     ]
    }
   ],
   "source": [
    "remainder = 11 % 3\n",
    "print(remainder)"
   ]
  },
  {
   "cell_type": "markdown",
   "metadata": {},
   "source": [
    "Unlike languages like R that you know, are beautiful, Python doesn't always play nice with the human eye. Just like how Jupyter Notebook is a lesser version of RMarkdown...I'm getting off topic. So unlike what you might expect by saying `3^2` is $3^2$ or \"three squared\", Python handles this with two multiplication symbols instead."
   ]
  },
  {
   "cell_type": "code",
   "execution_count": 17,
   "metadata": {},
   "outputs": [
    {
     "name": "stdout",
     "output_type": "stream",
     "text": [
      "9\n",
      "8\n"
     ]
    }
   ],
   "source": [
    "squared = 3 ** 2\n",
    "cubed = 2 ** 3\n",
    "print(squared)\n",
    "print(cubed)"
   ]
  },
  {
   "cell_type": "markdown",
   "metadata": {},
   "source": [
    "#### Using Operators with Lists\n",
    "\n",
    "Lists can be handles with operators as well. For example, you can combine lists by using the addition operator."
   ]
  },
  {
   "cell_type": "code",
   "execution_count": 18,
   "metadata": {},
   "outputs": [
    {
     "name": "stdout",
     "output_type": "stream",
     "text": [
      "[1, 3, 5, 7, 2, 4, 6, 8]\n"
     ]
    }
   ],
   "source": [
    "even_numbers = [2,4,6,8]\n",
    "odd_numbers = [1,3,5,7]\n",
    "all_numbers = odd_numbers + even_numbers\n",
    "print(all_numbers)"
   ]
  },
  {
   "cell_type": "markdown",
   "metadata": {},
   "source": [
    "Keep in mind that also unlike vectors in R, when multiplying a list by a scalar value, Python does **not** do vector algebra. Hence we get the following."
   ]
  },
  {
   "cell_type": "code",
   "execution_count": 19,
   "metadata": {},
   "outputs": [
    {
     "name": "stdout",
     "output_type": "stream",
     "text": [
      "[1, 2, 3]\n",
      "[1, 2, 3, 1, 2, 3, 1, 2, 3]\n"
     ]
    }
   ],
   "source": [
    "list1 = [1,2,3]\n",
    "list2 = list1 * 3\n",
    "\n",
    "print(list1)\n",
    "print(list2)"
   ]
  },
  {
   "cell_type": "markdown",
   "metadata": {},
   "source": [
    "#### Exercise\n",
    "\n",
    "The target of this exercise is to create two lists called `x_list` and `y_list`, which contain 10 instances of the variables `x` and `y`, respectively. You are also required to create a list called `big_list`, which contains the variables `x` and `y`, 10 times each, by concatenating the two lists you have created."
   ]
  },
  {
   "cell_type": "code",
   "execution_count": 20,
   "metadata": {},
   "outputs": [
    {
     "name": "stdout",
     "output_type": "stream",
     "text": [
      "x_list contains 10 objects\n",
      "y_list contains 10 objects\n",
      "big_list contains 20 objects\n",
      "Almost there...\n",
      "Great!\n"
     ]
    }
   ],
   "source": [
    "x = object()\n",
    "y = object()\n",
    "\n",
    "# TODO: change this code\n",
    "x_list = [x]\n",
    "x_list = x_list * 10\n",
    "y_list = [y]\n",
    "y_list = y_list * 10\n",
    "big_list = x_list + y_list\n",
    "\n",
    "print(\"x_list contains %d objects\" % len(x_list))\n",
    "print(\"y_list contains %d objects\" % len(y_list))\n",
    "print(\"big_list contains %d objects\" % len(big_list))\n",
    "\n",
    "# testing code\n",
    "if x_list.count(x) == 10 and y_list.count(y) == 10:\n",
    "    print(\"Almost there...\")\n",
    "if big_list.count(x) == 10 and big_list.count(y) == 10:\n",
    "    print(\"Great!\")"
   ]
  },
  {
   "cell_type": "markdown",
   "metadata": {},
   "source": [
    "### String Formatting\n",
    "\n",
    "If you're familiar with C, you're in luck! Python uses C-style string formatting to create new, formatted strings. It's also similar to the `sprintf()` function in R, that allows the user to use C-style string formatting commands. (Have you noticed I sprinkle a lot of R in here? It's my baby.) The `%` operator is used to format a set of variables enclosed in a \"tuple\" (a fixed size list), together with a format string, which contains normal text together with \"argument specifiers\", special symbols like `%s` and `%d`. Here's an example."
   ]
  },
  {
   "cell_type": "code",
   "execution_count": 21,
   "metadata": {},
   "outputs": [
    {
     "name": "stdout",
     "output_type": "stream",
     "text": [
      "Hello, John!\n"
     ]
    }
   ],
   "source": [
    "# This prints out \"Hello, John!\"\n",
    "name = \"John\"\n",
    "print(\"Hello, %s!\" % name)"
   ]
  },
  {
   "cell_type": "markdown",
   "metadata": {},
   "source": [
    "To use two or more argument specifiers, use a tuple (parentheses)."
   ]
  },
  {
   "cell_type": "code",
   "execution_count": 22,
   "metadata": {},
   "outputs": [
    {
     "name": "stdout",
     "output_type": "stream",
     "text": [
      "John is 23 years old.\n"
     ]
    }
   ],
   "source": [
    "# This prints out \"John is 23 years old.\"\n",
    "name = \"John\"\n",
    "age = 23\n",
    "print(\"%s is %d years old.\" % (name, age))"
   ]
  },
  {
   "cell_type": "markdown",
   "metadata": {},
   "source": [
    "Any object which is not a string can be formatted using the `%s` operator as well. The string which returns from the \"repr\" method of that object is formatted as the string. For example:"
   ]
  },
  {
   "cell_type": "code",
   "execution_count": 23,
   "metadata": {},
   "outputs": [
    {
     "name": "stdout",
     "output_type": "stream",
     "text": [
      "A list: [1, 2, 3]\n"
     ]
    }
   ],
   "source": [
    "# This prints out: A list: [1, 2, 3]\n",
    "mylist = [1,2,3]\n",
    "print(\"A list: %s\" % mylist)"
   ]
  },
  {
   "cell_type": "markdown",
   "metadata": {},
   "source": [
    "Here are some basic argument specifiers we should know:\n",
    "\n",
    "`%s - String (or any object with a string representation, like numbers)`\n",
    "\n",
    "`%d - Integers`\n",
    "\n",
    "`%f - Floating point numbers`\n",
    "\n",
    "`%.<number of digits>f - Floating point numbers with a fixed amount of digits to the right of the dot.`\n",
    "\n",
    "`%x/%X - Integers in hex representation (lowercase/uppercase)`"
   ]
  },
  {
   "cell_type": "markdown",
   "metadata": {},
   "source": [
    "#### Exercise\n",
    "\n",
    "You will need to write a format string which prints out the data using the following syntax: `Hello John Doe. Your current balance is $53.44.`"
   ]
  },
  {
   "cell_type": "code",
   "execution_count": 24,
   "metadata": {},
   "outputs": [
    {
     "name": "stdout",
     "output_type": "stream",
     "text": [
      "Hello John Doe. Your current balance is $53.44\n"
     ]
    }
   ],
   "source": [
    "data = (\"John\", \"Doe\", 53.44)\n",
    "format_string = \"Hello %s %s. Your current balance is $%.2f\"\n",
    "\n",
    "print(format_string % data)"
   ]
  },
  {
   "cell_type": "markdown",
   "metadata": {},
   "source": [
    "### Basic String Operations\n",
    "\n",
    "By now we aught to know what strings are, but there's quite a big more we can do with them. To start, check out the `len()` function."
   ]
  },
  {
   "cell_type": "code",
   "execution_count": 25,
   "metadata": {},
   "outputs": [
    {
     "data": {
      "text/plain": [
       "7"
      ]
     },
     "execution_count": 25,
     "metadata": {},
     "output_type": "execute_result"
    }
   ],
   "source": [
    "astring = 'Zoinks!'\n",
    "len(astring)"
   ]
  },
  {
   "cell_type": "markdown",
   "metadata": {},
   "source": [
    "As you can see here the `len()` function returns 7 since that's how long the `astring` object is, including the punctuation. If we had spaces, those would be counted as well. We can also get a bit more precise with our string operations. What we're about to dive into can be useful for text mining."
   ]
  },
  {
   "cell_type": "code",
   "execution_count": 26,
   "metadata": {},
   "outputs": [
    {
     "name": "stdout",
     "output_type": "stream",
     "text": [
      "1\n"
     ]
    }
   ],
   "source": [
    "astring = \"Zoinko the Clown\"\n",
    "print(astring.index(\"o\"))"
   ]
  },
  {
   "cell_type": "markdown",
   "metadata": {},
   "source": [
    "That prints out 1, because the location of the first occurrence of the letter \"o\" is 1 characters away from the first character. Notice how there are actually three o's in the phrase - this method only recognizes the first.\n",
    "\n",
    "But why didn't it print out 2? Isn't \"o\" the second character in the string? As we've mentioned before, Python (but not R because it's way cooler) start things at 0 instead of 1. So the index of \"o\" is 1. \n",
    "\n",
    "On the flip side of this, if we used `.count` instead of `.index` we get the following."
   ]
  },
  {
   "cell_type": "code",
   "execution_count": 27,
   "metadata": {},
   "outputs": [
    {
     "name": "stdout",
     "output_type": "stream",
     "text": [
      "3\n"
     ]
    }
   ],
   "source": [
    "astring = \"Zoinko the Clown\"\n",
    "print(astring.count(\"o\"))"
   ]
  },
  {
   "cell_type": "markdown",
   "metadata": {},
   "source": [
    "As we see here, `.count` returns to us the number of times that the input character was used in the string. Say we wanted to take a slice of a string now. By that I mean, consider a situation where we only want a specific portion of a string."
   ]
  },
  {
   "cell_type": "code",
   "execution_count": 28,
   "metadata": {},
   "outputs": [
    {
     "name": "stdout",
     "output_type": "stream",
     "text": [
      "This is a joke\n"
     ]
    }
   ],
   "source": [
    "astring = \"Help me I'm trapped inside this computer! This is not a joke please send help!\"\n",
    "print(astring[42:50] + astring[54:60])"
   ]
  },
  {
   "cell_type": "markdown",
   "metadata": {},
   "source": [
    "Note that this uses the standard indexing methods that we should be getting used to (starting with 0 instead of 1).\n",
    "\n",
    "We can also slice text with negative numbered index values, ie. if you were to write `astring[-3]` the print statement would return the 3rd character from the end. Another option we have comes when we put a 3rd item into the brackets, ie. `astring[x:y:z]`. Here the form is [start:stop:step], basically meaning that you start with index $x$, stop at index $y$, and go up by a value of $z$. Here's an example."
   ]
  },
  {
   "cell_type": "code",
   "execution_count": 29,
   "metadata": {},
   "outputs": [
    {
     "name": "stdout",
     "output_type": "stream",
     "text": [
      "pm ' rpe nieti optr hsi o  oe\n"
     ]
    }
   ],
   "source": [
    "astring = \"Help me I'm trapped inside this computer! This is not a joke please send help!\"\n",
    "print(astring[3:60:2])"
   ]
  },
  {
   "cell_type": "markdown",
   "metadata": {},
   "source": [
    "In order to reverse a string we can do the following:"
   ]
  },
  {
   "cell_type": "code",
   "execution_count": 30,
   "metadata": {},
   "outputs": [
    {
     "name": "stdout",
     "output_type": "stream",
     "text": [
      ".dren a er'uoy fi...looc si gnidoC\n"
     ]
    }
   ],
   "source": [
    "astring = \"Coding is cool...if you're a nerd.\"\n",
    "print(astring[::-1])"
   ]
  },
  {
   "cell_type": "markdown",
   "metadata": {},
   "source": [
    "Take that bully. We can also do this which gives off two fairly different impressions:"
   ]
  },
  {
   "cell_type": "code",
   "execution_count": 31,
   "metadata": {},
   "outputs": [
    {
     "name": "stdout",
     "output_type": "stream",
     "text": [
      "SHUT UP DAD\n",
      "shut up dad\n"
     ]
    }
   ],
   "source": [
    "astring = \"Shut Up Dad\"\n",
    "print(astring.upper())\n",
    "print(astring.lower())"
   ]
  },
  {
   "cell_type": "markdown",
   "metadata": {},
   "source": [
    "And we can test what is contained within string values:"
   ]
  },
  {
   "cell_type": "code",
   "execution_count": 32,
   "metadata": {},
   "outputs": [
    {
     "name": "stdout",
     "output_type": "stream",
     "text": [
      "True\n",
      "False\n"
     ]
    }
   ],
   "source": [
    "astring = \"Hello friends!\"\n",
    "print(astring.startswith(\"Hello\"))\n",
    "print(astring.endswith(\"asdfasdfasdf\"))"
   ]
  },
  {
   "cell_type": "markdown",
   "metadata": {},
   "source": [
    "The last thing we'll go over in this section is how to split a string into multiple strings grouped together in a list. This could be useful when doing text mining on down the line."
   ]
  },
  {
   "cell_type": "code",
   "execution_count": 33,
   "metadata": {},
   "outputs": [
    {
     "data": {
      "text/plain": [
       "[\"We're\", 'almost', 'done!']"
      ]
     },
     "execution_count": 33,
     "metadata": {},
     "output_type": "execute_result"
    }
   ],
   "source": [
    "astring = \"We're almost done!\"\n",
    "afewwords = astring.split(\" \")\n",
    "afewwords"
   ]
  },
  {
   "cell_type": "markdown",
   "metadata": {},
   "source": [
    "#### Exercise\n",
    "\n",
    "Try to fix the code to print out the correct information by changing the string. The Solution is done below."
   ]
  },
  {
   "cell_type": "code",
   "execution_count": 34,
   "metadata": {},
   "outputs": [
    {
     "name": "stdout",
     "output_type": "stream",
     "text": [
      "Length of s = 38\n",
      "The first occurrence of the letter a = 13\n",
      "a occurs 1 times\n",
      "The first five characters are 'Hey t'\n",
      "The next five characters are 'here!'\n",
      "The thirteenth character is 'h'\n",
      "The characters with odd index are 'e hr!wa hudti tigb?'\n",
      "The last five characters are 'g be?'\n",
      "String in uppercase: HEY THERE! WHAT SHOULD THIS STRING BE?\n",
      "String in lowercase: hey there! what should this string be?\n",
      "Split the words of the string: ['Hey', 'there!', 'what', 'should', 'this', 'string', 'be?']\n"
     ]
    }
   ],
   "source": [
    "s = \"Hey there! what should this string be?\"\n",
    "# Length should be 20\n",
    "print(\"Length of s = %d\" % len(s))\n",
    "\n",
    "# First occurrence of \"a\" should be at index 8\n",
    "print(\"The first occurrence of the letter a = %d\" % s.index(\"a\"))\n",
    "\n",
    "# Number of a's should be 2\n",
    "print(\"a occurs %d times\" % s.count(\"a\"))\n",
    "\n",
    "# Slicing the string into bits\n",
    "print(\"The first five characters are '%s'\" % s[:5]) # Start to 5\n",
    "print(\"The next five characters are '%s'\" % s[5:10]) # 5 to 10\n",
    "print(\"The thirteenth character is '%s'\" % s[12]) # Just number 12\n",
    "print(\"The characters with odd index are '%s'\" %s[1::2]) #(0-based indexing)\n",
    "print(\"The last five characters are '%s'\" % s[-5:]) # 5th-from-last to end\n",
    "\n",
    "# Convert everything to uppercase\n",
    "print(\"String in uppercase: %s\" % s.upper())\n",
    "\n",
    "# Convert everything to lowercase\n",
    "print(\"String in lowercase: %s\" % s.lower())\n",
    "\n",
    "# Check how a string starts\n",
    "if s.startswith(\"Str\"):\n",
    "    print(\"String starts with 'Str'. Good!\")\n",
    "\n",
    "# Check how a string ends\n",
    "if s.endswith(\"ome!\"):\n",
    "    print(\"String ends with 'ome!'. Good!\")\n",
    "\n",
    "# Split the string into three separate strings,\n",
    "# each containing only a word\n",
    "print(\"Split the words of the string: %s\" % s.split(\" \"))"
   ]
  },
  {
   "cell_type": "code",
   "execution_count": 35,
   "metadata": {},
   "outputs": [
    {
     "name": "stdout",
     "output_type": "stream",
     "text": [
      "Length of s = 20\n",
      "The first occurrence of the letter a = 8\n",
      "a occurs 2 times\n",
      "The first five characters are 'Strin'\n",
      "The next five characters are 'gs ar'\n",
      "The thirteenth character is 'a'\n",
      "The characters with odd index are 'tig r wsm!'\n",
      "The last five characters are 'some!'\n",
      "String in uppercase: STRINGS ARE AWESOME!\n",
      "String in lowercase: strings are awesome!\n",
      "String starts with 'Str'. Good!\n",
      "String ends with 'ome!'. Good!\n",
      "Split the words of the string: ['Strings', 'are', 'awesome!']\n"
     ]
    }
   ],
   "source": [
    "s = \"Strings are awesome!\"\n",
    "# Length should be 20\n",
    "print(\"Length of s = %d\" % len(s))\n",
    "\n",
    "# First occurrence of \"a\" should be at index 8\n",
    "print(\"The first occurrence of the letter a = %d\" % s.index(\"a\"))\n",
    "\n",
    "# Number of a's should be 2\n",
    "print(\"a occurs %d times\" % s.count(\"a\"))\n",
    "\n",
    "# Slicing the string into bits\n",
    "print(\"The first five characters are '%s'\" % s[:5]) # Start to 5\n",
    "print(\"The next five characters are '%s'\" % s[5:10]) # 5 to 10\n",
    "print(\"The thirteenth character is '%s'\" % s[12]) # Just number 12\n",
    "print(\"The characters with odd index are '%s'\" %s[1::2]) #(0-based indexing)\n",
    "print(\"The last five characters are '%s'\" % s[-5:]) # 5th-from-last to end\n",
    "\n",
    "# Convert everything to uppercase\n",
    "print(\"String in uppercase: %s\" % s.upper())\n",
    "\n",
    "# Convert everything to lowercase\n",
    "print(\"String in lowercase: %s\" % s.lower())\n",
    "\n",
    "# Check how a string starts\n",
    "if s.startswith(\"Str\"):\n",
    "    print(\"String starts with 'Str'. Good!\")\n",
    "\n",
    "# Check how a string ends\n",
    "if s.endswith(\"ome!\"):\n",
    "    print(\"String ends with 'ome!'. Good!\")\n",
    "\n",
    "# Split the string into three separate strings,\n",
    "# each containing only a word\n",
    "print(\"Split the words of the string: %s\" % s.split(\" \"))"
   ]
  },
  {
   "cell_type": "markdown",
   "metadata": {},
   "source": [
    "### Conditions\n",
    "\n",
    "Like most programming languages, Python uses boolean variables to evaluate conditions (ie. True, False). Python will return these variables when a conditional statement is evaluated."
   ]
  },
  {
   "cell_type": "code",
   "execution_count": 36,
   "metadata": {},
   "outputs": [
    {
     "name": "stdout",
     "output_type": "stream",
     "text": [
      "True\n",
      "False\n",
      "True\n"
     ]
    }
   ],
   "source": [
    "x = 2\n",
    "print(x == 2) # prints out True\n",
    "print(x == 3) # prints out False\n",
    "print(x < 3) # prints out True"
   ]
  },
  {
   "cell_type": "markdown",
   "metadata": {},
   "source": [
    "#### Boolean Operators\n",
    "\n",
    "Boolean operators allow for more complex Boolean expressions. The first examples of this we'll look at are \"and\" and \"or\". "
   ]
  },
  {
   "cell_type": "code",
   "execution_count": 39,
   "metadata": {},
   "outputs": [
    {
     "name": "stdout",
     "output_type": "stream",
     "text": [
      "Your name is Jacob, and you are also 24 years old.\n",
      "Your name is either Jacob or Ryan.\n"
     ]
    }
   ],
   "source": [
    "name = \"Jacob\"\n",
    "age = 24\n",
    "\n",
    "if name == \"Jacob\" and age == 24:\n",
    "    print(\"Your name is Jacob, and you are also 24 years old.\")\n",
    "\n",
    "if name == \"Jacob\" or name == \"Ryan\":\n",
    "    print(\"Your name is either Jacob or Ryan.\")\n",
    "    \n",
    "if name == \"Kevin\" or name == \"Jasper\":\n",
    "    print(\"Your name is Kasper.\")"
   ]
  },
  {
   "cell_type": "markdown",
   "metadata": {},
   "source": [
    "The next operator we'll discuss here is the \"in\" operator. This can be used to check if specific objects exist inside of an iterable object container, like a list."
   ]
  },
  {
   "cell_type": "code",
   "execution_count": 40,
   "metadata": {},
   "outputs": [
    {
     "name": "stdout",
     "output_type": "stream",
     "text": [
      "Your name is either Jacob or Ryan.\n"
     ]
    }
   ],
   "source": [
    "name = \"Jacob\"\n",
    "name_list = [\"Jacob\",\"Ryan\"]\n",
    "\n",
    "if name in name_list:\n",
    "    print(\"Your name is either Jacob or Ryan.\")\n",
    "    \n",
    "if name in [\"Bill Gates\",\"Elon Musk\"]:\n",
    "    print(\"Steal their wallet.\")"
   ]
  },
  {
   "cell_type": "markdown",
   "metadata": {},
   "source": [
    "One nice thing about Python is that instead of using brackets or something like that to define code blocks, it uses indentation. While this might seem strange, it actually makes for nicer looking code (which in turn is a little easier to read). The standard Python indentation is 4 spaces, although tabs and any other space size will work, as long as it is consistent. Notice that code blocks do not need any termination. So instead of having relatively ugly looking code like this:"
   ]
  },
  {
   "cell_type": "code",
   "execution_count": 41,
   "metadata": {},
   "outputs": [
    {
     "ename": "SyntaxError",
     "evalue": "invalid syntax (<ipython-input-41-091a22c48e42>, line 1)",
     "output_type": "error",
     "traceback": [
      "\u001b[1;36m  File \u001b[1;32m\"<ipython-input-41-091a22c48e42>\"\u001b[1;36m, line \u001b[1;32m1\u001b[0m\n\u001b[1;33m    if <statement is=\"\" true=\"\">:\u001b[0m\n\u001b[1;37m       ^\u001b[0m\n\u001b[1;31mSyntaxError\u001b[0m\u001b[1;31m:\u001b[0m invalid syntax\n"
     ]
    }
   ],
   "source": [
    "if <statement is=\"\" true=\"\">:\n",
    "    <do something=\"\">\n",
    "    ....\n",
    "    ....\n",
    "elif <another statement=\"\" is=\"\" true=\"\">: # else if\n",
    "    <do something=\"\" else=\"\">\n",
    "    ....\n",
    "    ....\n",
    "else:\n",
    "    <do another=\"\" thing=\"\">\n",
    "    ....\n",
    "    ....\n",
    "</do></do></another></do></statement>"
   ]
  },
  {
   "cell_type": "markdown",
   "metadata": {},
   "source": [
    "We get nicer code that looks like this:"
   ]
  },
  {
   "cell_type": "code",
   "execution_count": 43,
   "metadata": {},
   "outputs": [
    {
     "name": "stdout",
     "output_type": "stream",
     "text": [
      "x equals two!\n",
      "y does not equal to two.\n"
     ]
    }
   ],
   "source": [
    "x = 2\n",
    "if x == 2:\n",
    "    print(\"x equals two!\")\n",
    "else:\n",
    "    print(\"x does not equal to two.\")\n",
    "    \n",
    "y = 5\n",
    "if y == 2:\n",
    "    print(\"y equals two!\")\n",
    "else:\n",
    "    print(\"y does not equal to two.\")"
   ]
  },
  {
   "cell_type": "markdown",
   "metadata": {},
   "source": [
    "A statement is evaulated as true if one of the following is correct: \n",
    "- The \"True\" boolean variable is given, or calculated using an expression, such as an arithmetic comparison. \n",
    "- An object which is not considered \"empty\" is passed.\n",
    "\n",
    "Here are some examples for objects which are considered as empty: \n",
    "- An empty string: \"\" \n",
    "- An empty list: [] \n",
    "- The number zero: 0 \n",
    "- The false boolean variable: False"
   ]
  },
  {
   "cell_type": "markdown",
   "metadata": {},
   "source": [
    "Next up we'll talk a little bit about the \"is\" operator. While the `==` operator calculates whether or not a variable is equal to another, matching the values of the variables, the \"is\" operator matches the instances themselves. Most of the time we will find ourselves using the `==` operator instead, but it's important to know that we have this option as well. Below are some examples:"
   ]
  },
  {
   "cell_type": "code",
   "execution_count": 47,
   "metadata": {},
   "outputs": [
    {
     "name": "stdout",
     "output_type": "stream",
     "text": [
      "True\n",
      "False\n",
      "True\n",
      "True\n"
     ]
    }
   ],
   "source": [
    "x = [1,2,3]\n",
    "tx = type(x)\n",
    "y = [1,2,3]\n",
    "ty = type(y)\n",
    "print(x == y) # Prints out True\n",
    "print(x is y) # Prints out False\n",
    "print(x is x) # Prints out True\n",
    "print(tx is ty) # Prints out True"
   ]
  },
  {
   "cell_type": "markdown",
   "metadata": {},
   "source": [
    "The last Boolean operator we'll discuss in this section is the \"not\" operator. Whereas most programming lanuages use `!` for indicating the inverse of a Boolean statement, Python uses the actual word `not`."
   ]
  },
  {
   "cell_type": "code",
   "execution_count": 48,
   "metadata": {},
   "outputs": [
    {
     "name": "stdout",
     "output_type": "stream",
     "text": [
      "True\n",
      "False\n"
     ]
    }
   ],
   "source": [
    "print(not False) # Prints out True\n",
    "print((not False) == (False)) # Prints out False"
   ]
  },
  {
   "cell_type": "markdown",
   "metadata": {},
   "source": [
    "#### Exercise\n",
    "\n",
    "Change the variables in the first section, so that each if statement resolves as True. The solution is in the second cell below."
   ]
  },
  {
   "cell_type": "code",
   "execution_count": 49,
   "metadata": {},
   "outputs": [],
   "source": [
    "# change this code\n",
    "number = 10\n",
    "second_number = 10\n",
    "first_array = []\n",
    "second_array = [1,2,3]\n",
    "\n",
    "if number > 15:\n",
    "    print(\"1\")\n",
    "\n",
    "if first_array:\n",
    "    print(\"2\")\n",
    "\n",
    "if len(second_array) == 2:\n",
    "    print(\"3\")\n",
    "\n",
    "if len(first_array) + len(second_array) == 5:\n",
    "    print(\"4\")\n",
    "\n",
    "if first_array and first_array[0] == 1:\n",
    "    print(\"5\")"
   ]
  },
  {
   "cell_type": "code",
   "execution_count": 50,
   "metadata": {},
   "outputs": [
    {
     "name": "stdout",
     "output_type": "stream",
     "text": [
      "1\n",
      "2\n",
      "3\n",
      "4\n",
      "5\n"
     ]
    }
   ],
   "source": [
    "# change this code\n",
    "number = 20\n",
    "second_number = 10\n",
    "first_array = [1,2,3]\n",
    "second_array = [1,2]\n",
    "\n",
    "if number > 15:\n",
    "    print(\"1\")\n",
    "\n",
    "if first_array: # an empty list causes this statement to be passed\n",
    "    print(\"2\")\n",
    "\n",
    "if len(second_array) == 2:\n",
    "    print(\"3\")\n",
    "\n",
    "if len(first_array) + len(second_array) == 5:\n",
    "    print(\"4\")\n",
    "\n",
    "if first_array and first_array[0] == 1: # ie. if first_array isn't empty and the first entry is 1\n",
    "    print(\"5\")"
   ]
  },
  {
   "cell_type": "markdown",
   "metadata": {},
   "source": [
    "### Loops\n",
    "\n",
    "There are two types of loops in Python, both of which we'll go over here. Python uses \"for\" and \"while\" loops.\n",
    "\n",
    "#### The \"for\" Loop\n",
    "\n",
    "For loops iterate over a given sequence. For example,"
   ]
  },
  {
   "cell_type": "code",
   "execution_count": 54,
   "metadata": {},
   "outputs": [
    {
     "name": "stdout",
     "output_type": "stream",
     "text": [
      "2\n",
      "3\n",
      "5\n",
      "7\n",
      "Ryan\n",
      "Jacob\n",
      "Eric\n"
     ]
    }
   ],
   "source": [
    "primes = [2, 3, 5, 7]\n",
    "for prime in primes:\n",
    "    print(prime)\n",
    "    \n",
    "names = ['Ryan','Jacob','Eric']\n",
    "for i in names:\n",
    "    print(i)"
   ]
  },
  {
   "cell_type": "markdown",
   "metadata": {},
   "source": [
    "We can also use the `range()` function to iterate over a sequence of numbers. Note, the `range()` function returns a ne list with numbers of the specified range. Also keep in mind that this function is $0$ based (meaning that it's indexed 0,1,2...)."
   ]
  },
  {
   "cell_type": "code",
   "execution_count": 60,
   "metadata": {},
   "outputs": [
    {
     "name": "stdout",
     "output_type": "stream",
     "text": [
      "0\n",
      "1\n",
      "2\n",
      "3\n",
      "4\n",
      "3\n",
      "4\n",
      "5\n",
      "3\n",
      "5\n",
      "7\n"
     ]
    }
   ],
   "source": [
    "# Prints out the numbers 0,1,2,3,4\n",
    "for x in range(5):\n",
    "    print(x)\n",
    "\n",
    "# Prints out 3,4,5\n",
    "for x in range(3, 6):\n",
    "    print(x)\n",
    "\n",
    "# Prints out 3,5,7\n",
    "for x in range(3, 8, 2):\n",
    "    print(x)"
   ]
  },
  {
   "cell_type": "markdown",
   "metadata": {},
   "source": [
    "#### The \"while\" Loop\n",
    "\n",
    "While loops will repeat for as long as a certain Boolean condition is met. Be careful not to get yourself into infinite loops here! Here's an example:"
   ]
  },
  {
   "cell_type": "code",
   "execution_count": 62,
   "metadata": {},
   "outputs": [
    {
     "name": "stdout",
     "output_type": "stream",
     "text": [
      "0\n",
      "1\n",
      "2\n",
      "3\n",
      "4\n"
     ]
    }
   ],
   "source": [
    "# Prints out 0,1,2,3,4\n",
    "\n",
    "count = 0 # Here we're initializing the variable that we'll iterate along inside the loop.\n",
    "while count < 5:\n",
    "    print(count)\n",
    "    count += 1  # This is the same as count = count + 1"
   ]
  },
  {
   "cell_type": "markdown",
   "metadata": {},
   "source": [
    "#### \"break\" and \"continue\" Statements\n",
    "\n",
    "\"break\" is used to exit for or while loop. On the other hand, \"continue\" is used to skip the current block, and return to the \"for\" or \"while\" statement. As usual, here are some examples."
   ]
  },
  {
   "cell_type": "code",
   "execution_count": 64,
   "metadata": {},
   "outputs": [
    {
     "name": "stdout",
     "output_type": "stream",
     "text": [
      "0\n",
      "1\n",
      "2\n",
      "3\n",
      "4\n",
      "1\n",
      "3\n",
      "5\n",
      "7\n",
      "9\n"
     ]
    }
   ],
   "source": [
    "# Prints out 0,1,2,3,4\n",
    "\n",
    "count = 0\n",
    "while True:\n",
    "    print(count)\n",
    "    count += 1\n",
    "    if count >= 5:\n",
    "        break            # here we are giving the command to break the loop and move on\n",
    "\n",
    "# Prints out only odd numbers - 1,3,5,7,9\n",
    "for x in range(10):\n",
    "    # Check if x is even\n",
    "    if x % 2 == 0:\n",
    "        continue        # here we're saying if x is even, skip past it. Otherwise, print x\n",
    "    print(x)"
   ]
  },
  {
   "cell_type": "markdown",
   "metadata": {},
   "source": [
    "#### What About \"else\"?\n",
    "\n",
    "In Python, we can use \"else\" for loops, unlike languages like C. When the loop condition of \"for\" or \"while\" statement fails then code part in \"else\" is executed. And similarly to our above explanations, if a \"break\" statement is executed inside the loop then the \"else\" is skipped; and even if there is a \"continue\" statement, the \"else\" part will be executed."
   ]
  },
  {
   "cell_type": "code",
   "execution_count": 1,
   "metadata": {},
   "outputs": [
    {
     "name": "stdout",
     "output_type": "stream",
     "text": [
      "0\n",
      "1\n",
      "2\n",
      "3\n",
      "4\n",
      "count value reached 5\n",
      "1\n",
      "2\n",
      "3\n",
      "4\n"
     ]
    }
   ],
   "source": [
    "# Prints out 0,1,2,3,4 and then it prints \"count value reached 5\"\n",
    "\n",
    "count=0\n",
    "while(count<5):\n",
    "    print(count)\n",
    "    count +=1\n",
    "else:\n",
    "    print(\"count value reached %d\" %(count))\n",
    "\n",
    "# Prints out 1,2,3,4\n",
    "for i in range(1, 10):\n",
    "    if(i%5==0):\n",
    "        break\n",
    "    print(i)\n",
    "else:\n",
    "    print(\"this is not printed because for loop is terminated because of break but not due to fail in condition\")"
   ]
  },
  {
   "cell_type": "markdown",
   "metadata": {},
   "source": [
    "#### Exercise\n",
    "\n",
    "Loop through and print out all even numbers from the numbers list in the same order they are received. Don't print any numbers that come after $237$ in the sequence. The solution is in the second code cell."
   ]
  },
  {
   "cell_type": "code",
   "execution_count": 2,
   "metadata": {},
   "outputs": [],
   "source": [
    "numbers = [\n",
    "    951, 402, 984, 651, 360, 69, 408, 319, 601, 485, 980, 507, 725, 547, 544,\n",
    "    615, 83, 165, 141, 501, 263, 617, 865, 575, 219, 390, 984, 592, 236, 105, 942, 941,\n",
    "    386, 462, 47, 418, 907, 344, 236, 375, 823, 566, 597, 978, 328, 615, 953, 345,\n",
    "    399, 162, 758, 219, 918, 237, 412, 566, 826, 248, 866, 950, 626, 949, 687, 217,\n",
    "    815, 67, 104, 58, 512, 24, 892, 894, 767, 553, 81, 379, 843, 831, 445, 742, 717,\n",
    "    958, 609, 842, 451, 688, 753, 854, 685, 93, 857, 440, 380, 126, 721, 328, 753, 470,\n",
    "    743, 527\n",
    "]\n",
    "\n",
    "# your code goes here"
   ]
  },
  {
   "cell_type": "code",
   "execution_count": 7,
   "metadata": {},
   "outputs": [
    {
     "name": "stdout",
     "output_type": "stream",
     "text": [
      "402\n",
      "984\n",
      "360\n",
      "408\n",
      "980\n",
      "544\n",
      "390\n",
      "984\n",
      "592\n",
      "236\n",
      "942\n",
      "386\n",
      "462\n",
      "418\n",
      "344\n",
      "236\n",
      "566\n",
      "978\n",
      "328\n",
      "162\n",
      "758\n",
      "918\n"
     ]
    }
   ],
   "source": [
    "numbers = [\n",
    "    951, 402, 984, 651, 360, 69, 408, 319, 601, 485, 980, 507, 725, 547, 544,\n",
    "    615, 83, 165, 141, 501, 263, 617, 865, 575, 219, 390, 984, 592, 236, 105, 942, 941,\n",
    "    386, 462, 47, 418, 907, 344, 236, 375, 823, 566, 597, 978, 328, 615, 953, 345,\n",
    "    399, 162, 758, 219, 918, 237, 412, 566, 826, 248, 866, 950, 626, 949, 687, 217,\n",
    "    815, 67, 104, 58, 512, 24, 892, 894, 767, 553, 81, 379, 843, 831, 445, 742, 717,\n",
    "    958, 609, 842, 451, 688, 753, 854, 685, 93, 857, 440, 380, 126, 721, 328, 753, 470,\n",
    "    743, 527\n",
    "]\n",
    "\n",
    "for i in numbers:\n",
    "    \n",
    "    if i == 237:\n",
    "        break\n",
    "        \n",
    "    if i % 2 == 1:\n",
    "        continue\n",
    "        \n",
    "    print(i)"
   ]
  },
  {
   "cell_type": "markdown",
   "metadata": {},
   "source": [
    "### Functions\n",
    "\n",
    "Functions are a nice way to divide and organize code into blocks. Functions often times make code more readable, and save time if we need to do a task multiple times. So how do we write functions in Python?\n",
    "\n",
    "As we saw with loops, Python makes use of blocks and indentation to divide code. Below is an example of what a code block looks like (Ignore the #'s, they are being used to comment code out)."
   ]
  },
  {
   "cell_type": "code",
   "execution_count": 10,
   "metadata": {},
   "outputs": [],
   "source": [
    "#block_head:\n",
    "#    1st block line\n",
    "#    2nd block line\n",
    "#    ..."
   ]
  },
  {
   "cell_type": "markdown",
   "metadata": {},
   "source": [
    "Functions in python are defined using the block keyword \"def\", followed with the function's name as the block's name. For example:"
   ]
  },
  {
   "cell_type": "code",
   "execution_count": 11,
   "metadata": {},
   "outputs": [],
   "source": [
    "def my_first_function():\n",
    "    print(\"Hey mom look at me!\")"
   ]
  },
  {
   "cell_type": "markdown",
   "metadata": {},
   "source": [
    "Note that the function doesn't run until you call it:"
   ]
  },
  {
   "cell_type": "code",
   "execution_count": 12,
   "metadata": {},
   "outputs": [
    {
     "name": "stdout",
     "output_type": "stream",
     "text": [
      "Hey mom look at me!\n"
     ]
    }
   ],
   "source": [
    "my_first_function()"
   ]
  },
  {
   "cell_type": "markdown",
   "metadata": {},
   "source": [
    "Functions can also receive arguments, or variables that are passed through the caller to the function. Here is an example:"
   ]
  },
  {
   "cell_type": "code",
   "execution_count": 13,
   "metadata": {},
   "outputs": [],
   "source": [
    "def my_first_function_wargs(username, greeting):\n",
    "    print(\"Hello, %s , From My Function!, I wish you %s\" % (username, greeting))"
   ]
  },
  {
   "cell_type": "markdown",
   "metadata": {},
   "source": [
    "Then we call a function with arguments similarly to above, but put our inputs in the parentheses in order."
   ]
  },
  {
   "cell_type": "code",
   "execution_count": 14,
   "metadata": {},
   "outputs": [
    {
     "name": "stdout",
     "output_type": "stream",
     "text": [
      "Hello, obewanjacobi , From My Function!, I wish you were dead\n"
     ]
    }
   ],
   "source": [
    "my_first_function_wargs(\"obewanjacobi\",\"were dead\")"
   ]
  },
  {
   "cell_type": "markdown",
   "metadata": {},
   "source": [
    "Functions may also return a value to the caller. We do this by using the return statement."
   ]
  },
  {
   "cell_type": "code",
   "execution_count": 15,
   "metadata": {},
   "outputs": [],
   "source": [
    "def sum_two_numbers(a, b):\n",
    "    return a + b"
   ]
  },
  {
   "cell_type": "markdown",
   "metadata": {},
   "source": [
    "Then similarly, we can run the function immediately and have it print the output, or we can save the output to a variable."
   ]
  },
  {
   "cell_type": "code",
   "execution_count": 17,
   "metadata": {},
   "outputs": [],
   "source": [
    "# Run the statement only\n",
    "sum_two_numbers(2,3)\n",
    "\n",
    "# Return the output to the variable x\n",
    "x = sum_two_numbers(5,5)"
   ]
  },
  {
   "cell_type": "markdown",
   "metadata": {},
   "source": [
    "#### Exercise\n",
    "\n",
    "In this exercise you'll use an existing function, and while adding your own to create a fully functional program.\n",
    "\n",
    "- Add a function named `list_benefits()` that returns the following list of strings: \"More organized code\", \"More readable code\", \"Easier code reuse\", \"Allowing programmers to share and connect code together\"\n",
    "\n",
    "- Add a function named `build_sentence(info)` which receives a single argument containing a string and returns a sentence starting with the given string and ending with the string \" is a benefit of functions!\"\n",
    "\n",
    "- Run and see all the functions work together!\n",
    "\n",
    "The solution is in the second code cell below."
   ]
  },
  {
   "cell_type": "code",
   "execution_count": 19,
   "metadata": {},
   "outputs": [],
   "source": [
    "# Modify this function to return a list of strings as defined above\n",
    "def list_benefits():\n",
    "    pass\n",
    "\n",
    "# Modify this function to concatenate to each benefit - \" is a benefit of functions!\"\n",
    "def build_sentence(benefit):\n",
    "    pass\n",
    "\n",
    "def name_the_benefits_of_functions():\n",
    "    list_of_benefits = list_benefits()\n",
    "    for benefit in list_of_benefits:\n",
    "        print(build_sentence(benefit))"
   ]
  },
  {
   "cell_type": "code",
   "execution_count": 20,
   "metadata": {},
   "outputs": [
    {
     "name": "stdout",
     "output_type": "stream",
     "text": [
      "More organized code is a benefit of functions!\n",
      "More readable code is a benefit of functions!\n",
      "Easier code reuse is a benefit of functions!\n",
      "Allowing programmers to share and connect code together is a benefit of functions!\n"
     ]
    }
   ],
   "source": [
    "# Modify this function to return a list of strings as defined above\n",
    "def list_benefits():\n",
    "    benefits = [\"More organized code\", \"More readable code\", \"Easier code reuse\", \n",
    "                \"Allowing programmers to share and connect code together\"]\n",
    "    return benefits\n",
    "\n",
    "# Modify this function to concatenate to each benefit - \" is a benefit of functions!\"\n",
    "def build_sentence(benefit):\n",
    "    return \"%s is a benefit of functions!\" % benefit\n",
    "\n",
    "def name_the_benefits_of_functions():\n",
    "    list_of_benefits = list_benefits()\n",
    "    for benefit in list_of_benefits:\n",
    "        print(build_sentence(benefit))\n",
    "\n",
    "name_the_benefits_of_functions()"
   ]
  },
  {
   "cell_type": "markdown",
   "metadata": {},
   "source": [
    "### Classes and Objects\n",
    "\n",
    "Objects are an encapsulation of variables and functions into a single entity. Objects get their variables and functions from classes. Classes are essentially a template to create your objects.\n",
    "\n",
    "A very basic class would look something like this:"
   ]
  },
  {
   "cell_type": "code",
   "execution_count": 1,
   "metadata": {},
   "outputs": [],
   "source": [
    "class MyClass:\n",
    "    variable = \"blah\"\n",
    "\n",
    "    def function(self):\n",
    "        print(\"This is a message inside the class.\")"
   ]
  },
  {
   "cell_type": "markdown",
   "metadata": {},
   "source": [
    "We'll explain why you have to include that \"self\" as a parameter a little bit later. First, to assign the above class(template) to an object you would do the following:"
   ]
  },
  {
   "cell_type": "code",
   "execution_count": 2,
   "metadata": {},
   "outputs": [],
   "source": [
    "class MyClass:\n",
    "    variable = \"blah\"\n",
    "\n",
    "    def function(self):\n",
    "        print(\"This is a message inside the class.\")\n",
    "\n",
    "myobjectx = MyClass()"
   ]
  },
  {
   "cell_type": "markdown",
   "metadata": {},
   "source": [
    "Now the variable \"myobjectx\" holds an object of the class \"MyClass\" that contains the variable and the function defined within the class called \"MyClass\". If this isn't making sense quite yet, fret not. More examples should clear things up in no time."
   ]
  },
  {
   "cell_type": "markdown",
   "metadata": {},
   "source": [
    "#### Accessing Object Variables\n",
    "\n",
    "Say you need a variable out of the class we just made above. To access the variable inside of the newly created object \"myobjectx\" you would do the following:"
   ]
  },
  {
   "cell_type": "code",
   "execution_count": 3,
   "metadata": {},
   "outputs": [
    {
     "data": {
      "text/plain": [
       "'blah'"
      ]
     },
     "execution_count": 3,
     "metadata": {},
     "output_type": "execute_result"
    }
   ],
   "source": [
    "class MyClass:\n",
    "    variable = \"blah\"\n",
    "\n",
    "    def function(self):\n",
    "        print(\"This is a message inside the class.\")\n",
    "\n",
    "myobjectx = MyClass()\n",
    "\n",
    "myobjectx.variable"
   ]
  },
  {
   "cell_type": "markdown",
   "metadata": {},
   "source": [
    "As you can see, when we call the class, put in a period, and then call the variable we desire, it outputs that variable. Variables in classes can come in handy when you have a lot of variables and need to organize them in a clean fashion. \n",
    "\n",
    "You can create multiple different objects that are of the same class(have the same variables and functions defined). However, each object contains independent copies of the variables defined in the class. For instance, if we were to define another object with the \"MyClass\" class and then change the string in the variable above:"
   ]
  },
  {
   "cell_type": "code",
   "execution_count": 4,
   "metadata": {},
   "outputs": [
    {
     "name": "stdout",
     "output_type": "stream",
     "text": [
      "blah\n",
      "yackity\n"
     ]
    }
   ],
   "source": [
    "class MyClass:\n",
    "    variable = \"blah\"\n",
    "\n",
    "    def function(self):\n",
    "        print(\"This is a message inside the class.\")\n",
    "\n",
    "myobjectx = MyClass()\n",
    "myobjecty = MyClass()\n",
    "\n",
    "myobjecty.variable = \"yackity\"\n",
    "\n",
    "# Then print out both values\n",
    "print(myobjectx.variable)\n",
    "print(myobjecty.variable)"
   ]
  },
  {
   "cell_type": "markdown",
   "metadata": {},
   "source": [
    "In the above example, we changed the variable in the class by assigning it something new. But notice it didn't affect the class saved under `myobjectx`. It also didn't change the base `MyClass` class made, so if we were to make a `myobjectz = MyClass()`, we would still get the original class. \n",
    "\n",
    "#### Accessing Object Functions\n",
    "\n",
    "To access a function inside of an object you use notation similar to accessing a variable:"
   ]
  },
  {
   "cell_type": "code",
   "execution_count": 5,
   "metadata": {},
   "outputs": [
    {
     "name": "stdout",
     "output_type": "stream",
     "text": [
      "This is a message inside the class.\n"
     ]
    }
   ],
   "source": [
    "class MyClass:\n",
    "    variable = \"blah\"\n",
    "\n",
    "    def function(self):\n",
    "        print(\"This is a message inside the class.\")\n",
    "\n",
    "myobjectx = MyClass()\n",
    "\n",
    "myobjectx.function()"
   ]
  },
  {
   "cell_type": "markdown",
   "metadata": {},
   "source": [
    "As you can see, this handles the same way as accessing a variable from a class does.\n",
    "\n",
    "#### Exercise\n",
    "\n",
    "We have a class defined for vehicles. Create two new vehicles called car1 and car2. Set car1 to be a red convertible worth `$`60,000.00 with a name of Fer, and car2 to be a blue van named Jump worth `$`10,000.00. The solution will be in the second cell below."
   ]
  },
  {
   "cell_type": "code",
   "execution_count": 6,
   "metadata": {},
   "outputs": [
    {
     "ename": "NameError",
     "evalue": "name 'car1' is not defined",
     "output_type": "error",
     "traceback": [
      "\u001b[1;31m---------------------------------------------------------------------------\u001b[0m",
      "\u001b[1;31mNameError\u001b[0m                                 Traceback (most recent call last)",
      "\u001b[1;32m<ipython-input-6-cd3d01fe16f8>\u001b[0m in \u001b[0;36m<module>\u001b[1;34m()\u001b[0m\n\u001b[0;32m     11\u001b[0m \u001b[1;33m\u001b[0m\u001b[0m\n\u001b[0;32m     12\u001b[0m \u001b[1;31m# test code\u001b[0m\u001b[1;33m\u001b[0m\u001b[1;33m\u001b[0m\u001b[0m\n\u001b[1;32m---> 13\u001b[1;33m \u001b[0mprint\u001b[0m\u001b[1;33m(\u001b[0m\u001b[0mcar1\u001b[0m\u001b[1;33m.\u001b[0m\u001b[0mdescription\u001b[0m\u001b[1;33m(\u001b[0m\u001b[1;33m)\u001b[0m\u001b[1;33m)\u001b[0m\u001b[1;33m\u001b[0m\u001b[0m\n\u001b[0m\u001b[0;32m     14\u001b[0m \u001b[0mprint\u001b[0m\u001b[1;33m(\u001b[0m\u001b[0mcar2\u001b[0m\u001b[1;33m.\u001b[0m\u001b[0mdescription\u001b[0m\u001b[1;33m(\u001b[0m\u001b[1;33m)\u001b[0m\u001b[1;33m)\u001b[0m\u001b[1;33m\u001b[0m\u001b[0m\n",
      "\u001b[1;31mNameError\u001b[0m: name 'car1' is not defined"
     ]
    }
   ],
   "source": [
    "# define the Vehicle class\n",
    "class Vehicle:\n",
    "    name = \"\"\n",
    "    kind = \"car\"\n",
    "    color = \"\"\n",
    "    value = 100.00\n",
    "    def description(self):\n",
    "        desc_str = \"%s is a %s %s worth $%.2f.\" % (self.name, self.color, self.kind, self.value)\n",
    "        return desc_str\n",
    "# your code goes here\n",
    "\n",
    "# test code\n",
    "print(car1.description())\n",
    "print(car2.description())"
   ]
  },
  {
   "cell_type": "code",
   "execution_count": 8,
   "metadata": {},
   "outputs": [
    {
     "name": "stdout",
     "output_type": "stream",
     "text": [
      "Fer is a red convertible worth $60000.00.\n",
      "Jump is a blue van worth $10000.00.\n"
     ]
    }
   ],
   "source": [
    "# define the Vehicle class\n",
    "class Vehicle:\n",
    "    name = \"\"\n",
    "    kind = \"car\"\n",
    "    color = \"\"\n",
    "    value = 100.00\n",
    "    def description(self):\n",
    "        desc_str = \"%s is a %s %s worth $%.2f.\" % (self.name, self.color, self.kind, self.value)\n",
    "        return desc_str\n",
    "# your code goes here\n",
    "\n",
    "car1 = Vehicle()\n",
    "car1.name = 'Fer'\n",
    "car1.kind = 'convertible'\n",
    "car1.color = 'red'\n",
    "car1.value = 60000.00\n",
    "\n",
    "car2 = Vehicle()\n",
    "car2.name = 'Jump'\n",
    "car2.kind = 'van'\n",
    "car2.color = 'blue'\n",
    "car2.value = 10000.00\n",
    "\n",
    "# test code\n",
    "print(car1.description())\n",
    "print(car2.description())"
   ]
  },
  {
   "cell_type": "markdown",
   "metadata": {},
   "source": [
    "### Dictionaries\n",
    "\n",
    "A dictionary is a data type in Python that is similar to an array, but instead of working with indexes, it works with keys and values. Each value stored in a dictionary can be accessed using a key, which is any type of object (a string, a number, a list, etc.) instead of using its index to address it.\n",
    "\n",
    "For example, a database of phone numbers could be stored using a dictionary like this:"
   ]
  },
  {
   "cell_type": "code",
   "execution_count": 9,
   "metadata": {},
   "outputs": [
    {
     "name": "stdout",
     "output_type": "stream",
     "text": [
      "{'Frank': 5028477566, 'Stacy': 5028377264, \"Stacy's Mom\": 5028675309}\n"
     ]
    }
   ],
   "source": [
    "phonebook = {} # initialize the dictionary\n",
    "phonebook[\"Frank\"] = 5028477566\n",
    "phonebook[\"Stacy\"] = 5028377264\n",
    "phonebook[\"Stacy's Mom\"] = 5028675309\n",
    "print(phonebook)"
   ]
  },
  {
   "cell_type": "markdown",
   "metadata": {},
   "source": [
    "Alternatively, a dictionary can be initialized with the same values in the following notation (this way you can make the whole dictionary in one step):"
   ]
  },
  {
   "cell_type": "code",
   "execution_count": 10,
   "metadata": {},
   "outputs": [
    {
     "name": "stdout",
     "output_type": "stream",
     "text": [
      "{'Frank': 5028477566, 'Stacy': 5028377264, \"Stacy's Mom\": 5028675309}\n"
     ]
    }
   ],
   "source": [
    "phonebook = {\n",
    "    \"Frank\" : 5028477566,\n",
    "    \"Stacy\" : 5028377264,\n",
    "    \"Stacy's Mom\" : 5028675309\n",
    "}\n",
    "print(phonebook)"
   ]
  },
  {
   "cell_type": "markdown",
   "metadata": {},
   "source": [
    "Like lists, we can also iterate over a dictionary. However, a dictionary, unlike a list, does not keep the order of the values stored in it. To iterate over key value pairs, use the following syntax:"
   ]
  },
  {
   "cell_type": "code",
   "execution_count": 11,
   "metadata": {},
   "outputs": [
    {
     "name": "stdout",
     "output_type": "stream",
     "text": [
      "Phone number of Frank is 5028477566\n",
      "Phone number of Stacy is 5028377264\n",
      "Phone number of Stacy's Mom is 5028675309\n"
     ]
    }
   ],
   "source": [
    "phonebook = {\n",
    "    \"Frank\" : 5028477566,\n",
    "    \"Stacy\" : 5028377264,\n",
    "    \"Stacy's Mom\" : 5028675309\n",
    "}\n",
    "for name, number in phonebook.items():\n",
    "    print(\"Phone number of %s is %d\" % (name, number))"
   ]
  },
  {
   "cell_type": "markdown",
   "metadata": {},
   "source": [
    "You can think of this as saying for each name and it's given number inside the phonebook (which are called its items), do the command in the loop. The variables `name` and `number` named in the for loop are just placeholder values to help us as users keep track of what's going on.\n",
    "\n",
    "Say we want to remove a value from a dictionary. There are 2 ways to do this, both are demonstrated below:"
   ]
  },
  {
   "cell_type": "code",
   "execution_count": 16,
   "metadata": {},
   "outputs": [
    {
     "name": "stdout",
     "output_type": "stream",
     "text": [
      "{'Stacy': 5028377264, \"Stacy's Mom\": 5028675309}\n"
     ]
    }
   ],
   "source": [
    "phonebook = {\n",
    "    \"Frank\" : 5028477566,\n",
    "    \"Stacy\" : 5028377264,\n",
    "    \"Stacy's Mom\" : 5028675309\n",
    "}\n",
    "del phonebook[\"Frank\"] # Because who needs a dude's phone number?\n",
    "print(phonebook)"
   ]
  },
  {
   "cell_type": "code",
   "execution_count": 17,
   "metadata": {},
   "outputs": [
    {
     "name": "stdout",
     "output_type": "stream",
     "text": [
      "{\"Stacy's Mom\": 5028675309}\n"
     ]
    }
   ],
   "source": [
    "phonebook.pop(\"Stacy\") # Stacy can't you see, you're just not the girl for me?\n",
    "print(phonebook)"
   ]
  },
  {
   "cell_type": "markdown",
   "metadata": {},
   "source": [
    "And now we have all the numbers in our dictionary that really matter.\n",
    "\n",
    "#### Exercise\n",
    "\n",
    "Add \"Jake\" to the phonebook with the phone number 5024152985, and remove Frank from the phonebook. The solution is in the second code cell below."
   ]
  },
  {
   "cell_type": "code",
   "execution_count": 18,
   "metadata": {},
   "outputs": [],
   "source": [
    "phonebook = {\n",
    "    \"Frank\" : 5028477566,\n",
    "    \"Stacy\" : 5028377264,\n",
    "    \"Stacy's Mom\" : 5028675309\n",
    "}\n",
    "\n",
    "# write your code here\n",
    "\n",
    "\n",
    "# testing code\n",
    "if \"Jake\" in phonebook:\n",
    "    print(\"Jake is listed in the phonebook.\")\n",
    "if \"Frank\" not in phonebook:\n",
    "    print(\"Frank is not listed in the phonebook.\")"
   ]
  },
  {
   "cell_type": "code",
   "execution_count": 19,
   "metadata": {},
   "outputs": [
    {
     "name": "stdout",
     "output_type": "stream",
     "text": [
      "Jake is listed in the phonebook.\n",
      "Frank is not listed in the phonebook.\n"
     ]
    }
   ],
   "source": [
    "phonebook = {\n",
    "    \"Frank\" : 5028477566,\n",
    "    \"Stacy\" : 5028377264,\n",
    "    \"Stacy's Mom\" : 5028675309\n",
    "}\n",
    "\n",
    "# write your code here\n",
    "\n",
    "phonebook.pop(\"Frank\")\n",
    "phonebook[\"Jake\"] = 5024152985\n",
    "\n",
    "# testing code\n",
    "if \"Jake\" in phonebook:\n",
    "    print(\"Jake is listed in the phonebook.\")\n",
    "if \"Frank\" not in phonebook:\n",
    "    print(\"Frank is not listed in the phonebook.\")"
   ]
  },
  {
   "cell_type": "markdown",
   "metadata": {},
   "source": [
    "### Modules and Packages\n",
    "\n",
    "We did it, we made it to the last lesson under \"**Learn the Basics**\", feels like forever, doesn't it? This will be one of the more complex sections we go over. But no need to worry, that's why I wrote this little guy up. Hope this helps!\n",
    "\n",
    "A module is a piece of software that has a specific functionality. For example, imagine you're building an app in Python. When doing this for example, you would have one module be responsible for the server, or what is calculated and run in the background. Then you would have another module to control the UI (user interface), and would control what is presented on screen. In this example, each module is a different file, and can be edited separately. \n",
    "\n",
    "#### Writing Modules\n",
    "\n",
    "In this section we will give outlines and templates of how to write your own modules, but keep in mind that these modules don't work without some actual code in them. For that reason, to prevent from printing errors, we will simply leave the code commented out. If the code shows `##`, then it is an actual comment, whereas if the code shows `#`, then that's example code. \n",
    "\n",
    "Modules in Python are simply Python files with a .py extension. The name of the module will be the name of the file. A Python module can have a set of functions, classes or variables defined and implemented. In the example of building an application, we will have two files, we will have:"
   ]
  },
  {
   "cell_type": "code",
   "execution_count": 20,
   "metadata": {},
   "outputs": [],
   "source": [
    "#myapp/            - the directory where the modules are stored\n",
    "#myapp/server.py   - the server module, what runs in the background\n",
    "#myapp/ui.py       - the UI module, controlling what is printed on screen"
   ]
  },
  {
   "cell_type": "markdown",
   "metadata": {},
   "source": [
    "The Python script `server.py` will implement the app. It will use a function, maybe called `draw_app` from the file `ui.py`, or in other words, the `ui` module, that implements the logic for printing the app on the screen.\n",
    "\n",
    "Modules are imported from other modules using the `import` command. In this example, the `server.py` script may look something like this:"
   ]
  },
  {
   "cell_type": "code",
   "execution_count": 21,
   "metadata": {},
   "outputs": [],
   "source": [
    "## server.py\n",
    "## import the ui module\n",
    "#import ui\n",
    "\n",
    "#def play_app():\n",
    "#    ...\n",
    "\n",
    "#def main():\n",
    "#    result = play_app()\n",
    "#    ui.ui_app(result)\n",
    "\n",
    "## this means that if this script is executed, then \n",
    "## main() will be executed\n",
    "#if __name__ == '__main__':\n",
    "#    main()"
   ]
  },
  {
   "cell_type": "markdown",
   "metadata": {},
   "source": [
    "And the `ui` module may look something like this:"
   ]
  },
  {
   "cell_type": "code",
   "execution_count": 23,
   "metadata": {},
   "outputs": [],
   "source": [
    "## ui.py\n",
    "\n",
    "#def ui_app():\n",
    "#    ...\n",
    "\n",
    "#def clear_screen(screen):\n",
    "#    ..."
   ]
  },
  {
   "cell_type": "markdown",
   "metadata": {},
   "source": [
    "In this example, the `server` module imports the `load` module, which enables it to use functions implemented in that module. The `main` function would use the local function `play_app` to run the app, and then print the result of the app using a function implemented in the `ui` module called `ui_app`. To use the function `ui_app` from the `ui` module, we would need to specify in which module the function is implemented, using the dot operator. To reference the `ui_app` function from the `server` module, we would need to import the `ui` module and only then call `ui.ui_app()`.\n",
    "\n",
    "When the `import ui` directive will run, the Python interpreter will look for a file in the directory which the script was executed from, by the name of the module with a `.py` suffix, so in our case it will try to look for `ui.py`. If it will find one, it will import it. If not, he will continue to look for built-in modules.\n",
    "\n",
    "You may have noticed that when importing a module, a `.pyc` file appears, which is a compiled Python file. Python compiles files into Python bytecode so that it won't have to parse the files each time modules are loaded. If a `.pyc` file exists, it gets loaded instead of the `.py` file, but this process is transparent to the user.\n",
    "\n",
    "#### Importing Module Objects to the Current Namespace\n",
    "\n",
    "We may also import the function `ui_app` directly into the main script's namespace, by using the `from` command."
   ]
  },
  {
   "cell_type": "code",
   "execution_count": 1,
   "metadata": {},
   "outputs": [],
   "source": [
    "## app.py\n",
    "## import the ui module\n",
    "#from ui import ui_app\n",
    "\n",
    "#def main():\n",
    "#    result = play_app()\n",
    "#    ui_app(result)"
   ]
  },
  {
   "cell_type": "markdown",
   "metadata": {},
   "source": [
    "You may have noticed that in this example, `ui_app` does not precede with the name of the module it is imported from, because we've specified the module name in the `import` command.\n",
    "\n",
    "The advantages of using this notation is that it is easier to use the functions inside the current module because you don't need to specify which module the function comes from. However, any namespace cannot have two objects with the exact same name, so the `import` command may replace an existing object in the namespace.\n",
    "\n",
    "#### Import all Objects From a Module\n",
    "\n",
    "We may also use the `import *` command to import all objects from a specific module, like this:"
   ]
  },
  {
   "cell_type": "code",
   "execution_count": 2,
   "metadata": {},
   "outputs": [],
   "source": [
    "## app.py\n",
    "## import the ui module\n",
    "#from ui import *\n",
    "\n",
    "#def main():\n",
    "#    result = play_app()\n",
    "#    ui_app(result)"
   ]
  },
  {
   "cell_type": "markdown",
   "metadata": {},
   "source": [
    "This might be a bit risky as changes in the module might affect the module which imports it, but it is shorter and also does not require you to specify which objects you wish to import from the module.\n",
    "\n",
    "#### Custom Import Name\n",
    "\n",
    "We may also load modules under any name we want. This is useful when we want to import a module conditionally to use the same name in the rest of the code.\n",
    "\n",
    "For example, if you have two `ui` modules with slighty different names - you may do the following:"
   ]
  },
  {
   "cell_type": "code",
   "execution_count": 3,
   "metadata": {},
   "outputs": [],
   "source": [
    "## app.py\n",
    "## import the ui module\n",
    "#if visual_mode:\n",
    "#    # in visual mode, we print using graphics\n",
    "#    import ui_visual as ui\n",
    "#else:\n",
    "#    # in textual mode, we print out text\n",
    "#    import ui_textual as ui\n",
    "\n",
    "#def main():\n",
    "#    result = play_app()\n",
    "#    # this can either be visual or textual depending on visual_mode\n",
    "#    ui.ui_app(result)"
   ]
  },
  {
   "cell_type": "markdown",
   "metadata": {},
   "source": [
    "#### Module Initialization\n",
    "\n",
    "The first time a module is loaded into a running Python script, it is initialized by executing the code in the module once. If another module in your code imports the same module again, it will not be loaded twice but once only - so local variables inside the module act as a \"singleton\" - they are initialized only once.\n",
    "\n",
    "This is useful to know, because this means that you can rely on this behavior for initializing objects. For example:"
   ]
  },
  {
   "cell_type": "code",
   "execution_count": 4,
   "metadata": {},
   "outputs": [],
   "source": [
    "## ui.py\n",
    "\n",
    "#def ui_app():\n",
    "#    # when clearing the screen we can use the main screen object initialized in this module\n",
    "#    clear_screen(main_screen)\n",
    "#    ...\n",
    "\n",
    "#def clear_screen(screen):\n",
    "#    ...\n",
    "\n",
    "#class Screen():\n",
    "#    ...\n",
    "\n",
    "## initialize main_screen as a singleton\n",
    "#main_screen = Screen()"
   ]
  },
  {
   "cell_type": "markdown",
   "metadata": {},
   "source": [
    "#### Extending Module Load Path\n",
    "\n",
    "There are a couple of ways we could tell the Python interpreter where to look for modules, aside from the default, which is the local directory and the built-in modules. You could either use the environment variable `PYTHONPATH` to specify additional directories to look for modules in, like this:"
   ]
  },
  {
   "cell_type": "code",
   "execution_count": 5,
   "metadata": {},
   "outputs": [
    {
     "ename": "SyntaxError",
     "evalue": "invalid syntax (<ipython-input-5-a2d2c7aeb4ec>, line 1)",
     "output_type": "error",
     "traceback": [
      "\u001b[1;36m  File \u001b[1;32m\"<ipython-input-5-a2d2c7aeb4ec>\"\u001b[1;36m, line \u001b[1;32m1\u001b[0m\n\u001b[1;33m    PYTHONPATH=/foo python app.py\u001b[0m\n\u001b[1;37m               ^\u001b[0m\n\u001b[1;31mSyntaxError\u001b[0m\u001b[1;31m:\u001b[0m invalid syntax\n"
     ]
    }
   ],
   "source": [
    "#PYTHONPATH=/foo python app.py"
   ]
  },
  {
   "cell_type": "markdown",
   "metadata": {},
   "source": [
    "This will execute `app.py`, and will enable the script to load modules from the foo directory as well as the local directory.\n",
    "\n",
    "Another method is the sys.path.append function. You may execute it before running an import command:"
   ]
  },
  {
   "cell_type": "code",
   "execution_count": 6,
   "metadata": {},
   "outputs": [
    {
     "ename": "NameError",
     "evalue": "name 'sys' is not defined",
     "output_type": "error",
     "traceback": [
      "\u001b[1;31m---------------------------------------------------------------------------\u001b[0m",
      "\u001b[1;31mNameError\u001b[0m                                 Traceback (most recent call last)",
      "\u001b[1;32m<ipython-input-6-cff76065f6a5>\u001b[0m in \u001b[0;36m<module>\u001b[1;34m()\u001b[0m\n\u001b[1;32m----> 1\u001b[1;33m \u001b[0msys\u001b[0m\u001b[1;33m.\u001b[0m\u001b[0mpath\u001b[0m\u001b[1;33m.\u001b[0m\u001b[0mappend\u001b[0m\u001b[1;33m(\u001b[0m\u001b[1;34m\"/foo\"\u001b[0m\u001b[1;33m)\u001b[0m\u001b[1;33m\u001b[0m\u001b[0m\n\u001b[0m",
      "\u001b[1;31mNameError\u001b[0m: name 'sys' is not defined"
     ]
    }
   ],
   "source": [
    "#sys.path.append(\"/foo\")"
   ]
  },
  {
   "cell_type": "markdown",
   "metadata": {},
   "source": [
    "This will add the `foo` directory to the list of paths to look for modules in as well."
   ]
  },
  {
   "cell_type": "markdown",
   "metadata": {},
   "source": [
    "#### Exploring Built-In Modules\n",
    "\n",
    "Check out the full list of built-in modules in the Python standard library here: https://docs.python.org/3/library/.\n",
    "\n",
    "Two very important functions come in handy when exploring modules in Python - the `dir` and `help` functions.\n",
    "\n",
    "If we want to import the module `urllib`, which enables us to create read data from URLs, we simply `import` the module:"
   ]
  },
  {
   "cell_type": "code",
   "execution_count": 8,
   "metadata": {},
   "outputs": [],
   "source": [
    "# import the library\n",
    "import urllib\n",
    "\n",
    "## use it\n",
    "#urllib.urlopen(...)"
   ]
  },
  {
   "cell_type": "markdown",
   "metadata": {},
   "source": [
    "We can look for which functions are implemented in each module by using the `dir` function:"
   ]
  },
  {
   "cell_type": "code",
   "execution_count": 9,
   "metadata": {},
   "outputs": [
    {
     "data": {
      "text/plain": [
       "['__builtins__',\n",
       " '__cached__',\n",
       " '__doc__',\n",
       " '__file__',\n",
       " '__loader__',\n",
       " '__name__',\n",
       " '__package__',\n",
       " '__path__',\n",
       " '__spec__',\n",
       " 'error',\n",
       " 'parse',\n",
       " 'request',\n",
       " 'response']"
      ]
     },
     "execution_count": 9,
     "metadata": {},
     "output_type": "execute_result"
    }
   ],
   "source": [
    "import urllib\n",
    "dir(urllib)"
   ]
  },
  {
   "cell_type": "markdown",
   "metadata": {},
   "source": [
    "When we find the function in the module we want to use, we can read about it more using the `help` function, inside the Python interpreter."
   ]
  },
  {
   "cell_type": "code",
   "execution_count": 11,
   "metadata": {},
   "outputs": [
    {
     "name": "stdout",
     "output_type": "stream",
     "text": [
      "Help on module urllib.parse in urllib:\n",
      "\n",
      "NAME\n",
      "    urllib.parse - Parse (absolute and relative) URLs.\n",
      "\n",
      "DESCRIPTION\n",
      "    urlparse module is based upon the following RFC specifications.\n",
      "    \n",
      "    RFC 3986 (STD66): \"Uniform Resource Identifiers\" by T. Berners-Lee, R. Fielding\n",
      "    and L.  Masinter, January 2005.\n",
      "    \n",
      "    RFC 2732 : \"Format for Literal IPv6 Addresses in URL's by R.Hinden, B.Carpenter\n",
      "    and L.Masinter, December 1999.\n",
      "    \n",
      "    RFC 2396:  \"Uniform Resource Identifiers (URI)\": Generic Syntax by T.\n",
      "    Berners-Lee, R. Fielding, and L. Masinter, August 1998.\n",
      "    \n",
      "    RFC 2368: \"The mailto URL scheme\", by P.Hoffman , L Masinter, J. Zawinski, July 1998.\n",
      "    \n",
      "    RFC 1808: \"Relative Uniform Resource Locators\", by R. Fielding, UC Irvine, June\n",
      "    1995.\n",
      "    \n",
      "    RFC 1738: \"Uniform Resource Locators (URL)\" by T. Berners-Lee, L. Masinter, M.\n",
      "    McCahill, December 1994\n",
      "    \n",
      "    RFC 3986 is considered the current standard and any future changes to\n",
      "    urlparse module should conform with it.  The urlparse module is\n",
      "    currently not entirely compliant with this RFC due to defacto\n",
      "    scenarios for parsing, and for backward compatibility purposes, some\n",
      "    parsing quirks from older RFCs are retained. The testcases in\n",
      "    test_urlparse.py provides a good indicator of parsing behavior.\n",
      "\n",
      "CLASSES\n",
      "    DefragResult(builtins.tuple)\n",
      "        DefragResult(DefragResult, _ResultMixinStr)\n",
      "        DefragResultBytes(DefragResult, _ResultMixinBytes)\n",
      "    ParseResult(builtins.tuple)\n",
      "        ParseResult(ParseResult, _NetlocResultMixinStr)\n",
      "        ParseResultBytes(ParseResult, _NetlocResultMixinBytes)\n",
      "    SplitResult(builtins.tuple)\n",
      "        SplitResult(SplitResult, _NetlocResultMixinStr)\n",
      "        SplitResultBytes(SplitResult, _NetlocResultMixinBytes)\n",
      "    _NetlocResultMixinBytes(_NetlocResultMixinBase, _ResultMixinBytes)\n",
      "        ParseResultBytes(ParseResult, _NetlocResultMixinBytes)\n",
      "        SplitResultBytes(SplitResult, _NetlocResultMixinBytes)\n",
      "    _NetlocResultMixinStr(_NetlocResultMixinBase, _ResultMixinStr)\n",
      "        ParseResult(ParseResult, _NetlocResultMixinStr)\n",
      "        SplitResult(SplitResult, _NetlocResultMixinStr)\n",
      "    _ResultMixinBytes(builtins.object)\n",
      "        DefragResultBytes(DefragResult, _ResultMixinBytes)\n",
      "    _ResultMixinStr(builtins.object)\n",
      "        DefragResult(DefragResult, _ResultMixinStr)\n",
      "    \n",
      "    class DefragResult(DefragResult, _ResultMixinStr)\n",
      "     |  DefragResult(url, fragment)\n",
      "     |  \n",
      "     |  A 2-tuple that contains the url without fragment identifier and the fragment\n",
      "     |  identifier as a separate argument.\n",
      "     |  \n",
      "     |  Method resolution order:\n",
      "     |      DefragResult\n",
      "     |      DefragResult\n",
      "     |      builtins.tuple\n",
      "     |      _ResultMixinStr\n",
      "     |      builtins.object\n",
      "     |  \n",
      "     |  Methods defined here:\n",
      "     |  \n",
      "     |  geturl(self)\n",
      "     |  \n",
      "     |  ----------------------------------------------------------------------\n",
      "     |  Data and other attributes defined here:\n",
      "     |  \n",
      "     |  _encoded_counterpart = <class 'urllib.parse.DefragResultBytes'>\n",
      "     |      DefragResult(url, fragment)\n",
      "     |      \n",
      "     |      A 2-tuple that contains the url without fragment identifier and the fragment\n",
      "     |      identifier as a separate argument.\n",
      "     |  \n",
      "     |  ----------------------------------------------------------------------\n",
      "     |  Methods inherited from DefragResult:\n",
      "     |  \n",
      "     |  __getnewargs__(self)\n",
      "     |      Return self as a plain tuple.  Used by copy and pickle.\n",
      "     |  \n",
      "     |  __repr__(self)\n",
      "     |      Return a nicely formatted representation string\n",
      "     |  \n",
      "     |  _asdict(self)\n",
      "     |      Return a new OrderedDict which maps field names to their values.\n",
      "     |  \n",
      "     |  _replace(_self, **kwds)\n",
      "     |      Return a new DefragResult object replacing specified fields with new values\n",
      "     |  \n",
      "     |  ----------------------------------------------------------------------\n",
      "     |  Class methods inherited from DefragResult:\n",
      "     |  \n",
      "     |  _make(iterable, new=<built-in method __new__ of type object at 0x000000005CDCC0D0>, len=<built-in function len>) from builtins.type\n",
      "     |      Make a new DefragResult object from a sequence or iterable\n",
      "     |  \n",
      "     |  ----------------------------------------------------------------------\n",
      "     |  Static methods inherited from DefragResult:\n",
      "     |  \n",
      "     |  __new__(_cls, url, fragment)\n",
      "     |      Create new instance of DefragResult(url, fragment)\n",
      "     |  \n",
      "     |  ----------------------------------------------------------------------\n",
      "     |  Data descriptors inherited from DefragResult:\n",
      "     |  \n",
      "     |  url\n",
      "     |      The URL with no fragment identifier.\n",
      "     |  \n",
      "     |  fragment\n",
      "     |      Fragment identifier separated from URL, that allows indirect identification of a\n",
      "     |      secondary resource by reference to a primary resource and additional identifying\n",
      "     |      information.\n",
      "     |  \n",
      "     |  ----------------------------------------------------------------------\n",
      "     |  Data and other attributes inherited from DefragResult:\n",
      "     |  \n",
      "     |  _fields = ('url', 'fragment')\n",
      "     |  \n",
      "     |  _source = \"from builtins import property as _property, tupl..._itemget...\n",
      "     |  \n",
      "     |  ----------------------------------------------------------------------\n",
      "     |  Methods inherited from builtins.tuple:\n",
      "     |  \n",
      "     |  __add__(self, value, /)\n",
      "     |      Return self+value.\n",
      "     |  \n",
      "     |  __contains__(self, key, /)\n",
      "     |      Return key in self.\n",
      "     |  \n",
      "     |  __eq__(self, value, /)\n",
      "     |      Return self==value.\n",
      "     |  \n",
      "     |  __ge__(self, value, /)\n",
      "     |      Return self>=value.\n",
      "     |  \n",
      "     |  __getattribute__(self, name, /)\n",
      "     |      Return getattr(self, name).\n",
      "     |  \n",
      "     |  __getitem__(self, key, /)\n",
      "     |      Return self[key].\n",
      "     |  \n",
      "     |  __gt__(self, value, /)\n",
      "     |      Return self>value.\n",
      "     |  \n",
      "     |  __hash__(self, /)\n",
      "     |      Return hash(self).\n",
      "     |  \n",
      "     |  __iter__(self, /)\n",
      "     |      Implement iter(self).\n",
      "     |  \n",
      "     |  __le__(self, value, /)\n",
      "     |      Return self<=value.\n",
      "     |  \n",
      "     |  __len__(self, /)\n",
      "     |      Return len(self).\n",
      "     |  \n",
      "     |  __lt__(self, value, /)\n",
      "     |      Return self<value.\n",
      "     |  \n",
      "     |  __mul__(self, value, /)\n",
      "     |      Return self*value.n\n",
      "     |  \n",
      "     |  __ne__(self, value, /)\n",
      "     |      Return self!=value.\n",
      "     |  \n",
      "     |  __rmul__(self, value, /)\n",
      "     |      Return self*value.\n",
      "     |  \n",
      "     |  count(...)\n",
      "     |      T.count(value) -> integer -- return number of occurrences of value\n",
      "     |  \n",
      "     |  index(...)\n",
      "     |      T.index(value, [start, [stop]]) -> integer -- return first index of value.\n",
      "     |      Raises ValueError if the value is not present.\n",
      "     |  \n",
      "     |  ----------------------------------------------------------------------\n",
      "     |  Methods inherited from _ResultMixinStr:\n",
      "     |  \n",
      "     |  encode(self, encoding='ascii', errors='strict')\n",
      "    \n",
      "    class DefragResultBytes(DefragResult, _ResultMixinBytes)\n",
      "     |  DefragResult(url, fragment)\n",
      "     |  \n",
      "     |  A 2-tuple that contains the url without fragment identifier and the fragment\n",
      "     |  identifier as a separate argument.\n",
      "     |  \n",
      "     |  Method resolution order:\n",
      "     |      DefragResultBytes\n",
      "     |      DefragResult\n",
      "     |      builtins.tuple\n",
      "     |      _ResultMixinBytes\n",
      "     |      builtins.object\n",
      "     |  \n",
      "     |  Methods defined here:\n",
      "     |  \n",
      "     |  geturl(self)\n",
      "     |  \n",
      "     |  ----------------------------------------------------------------------\n",
      "     |  Data and other attributes defined here:\n",
      "     |  \n",
      "     |  _decoded_counterpart = <class 'urllib.parse.DefragResult'>\n",
      "     |      DefragResult(url, fragment)\n",
      "     |      \n",
      "     |      A 2-tuple that contains the url without fragment identifier and the fragment\n",
      "     |      identifier as a separate argument.\n",
      "     |  \n",
      "     |  ----------------------------------------------------------------------\n",
      "     |  Methods inherited from DefragResult:\n",
      "     |  \n",
      "     |  __getnewargs__(self)\n",
      "     |      Return self as a plain tuple.  Used by copy and pickle.\n",
      "     |  \n",
      "     |  __repr__(self)\n",
      "     |      Return a nicely formatted representation string\n",
      "     |  \n",
      "     |  _asdict(self)\n",
      "     |      Return a new OrderedDict which maps field names to their values.\n",
      "     |  \n",
      "     |  _replace(_self, **kwds)\n",
      "     |      Return a new DefragResult object replacing specified fields with new values\n",
      "     |  \n",
      "     |  ----------------------------------------------------------------------\n",
      "     |  Class methods inherited from DefragResult:\n",
      "     |  \n",
      "     |  _make(iterable, new=<built-in method __new__ of type object at 0x000000005CDCC0D0>, len=<built-in function len>) from builtins.type\n",
      "     |      Make a new DefragResult object from a sequence or iterable\n",
      "     |  \n",
      "     |  ----------------------------------------------------------------------\n",
      "     |  Static methods inherited from DefragResult:\n",
      "     |  \n",
      "     |  __new__(_cls, url, fragment)\n",
      "     |      Create new instance of DefragResult(url, fragment)\n",
      "     |  \n",
      "     |  ----------------------------------------------------------------------\n",
      "     |  Data descriptors inherited from DefragResult:\n",
      "     |  \n",
      "     |  url\n",
      "     |      The URL with no fragment identifier.\n",
      "     |  \n",
      "     |  fragment\n",
      "     |      Fragment identifier separated from URL, that allows indirect identification of a\n",
      "     |      secondary resource by reference to a primary resource and additional identifying\n",
      "     |      information.\n",
      "     |  \n",
      "     |  ----------------------------------------------------------------------\n",
      "     |  Data and other attributes inherited from DefragResult:\n",
      "     |  \n",
      "     |  _fields = ('url', 'fragment')\n",
      "     |  \n",
      "     |  _source = \"from builtins import property as _property, tupl..._itemget...\n",
      "     |  \n",
      "     |  ----------------------------------------------------------------------\n",
      "     |  Methods inherited from builtins.tuple:\n",
      "     |  \n",
      "     |  __add__(self, value, /)\n",
      "     |      Return self+value.\n",
      "     |  \n",
      "     |  __contains__(self, key, /)\n",
      "     |      Return key in self.\n",
      "     |  \n",
      "     |  __eq__(self, value, /)\n",
      "     |      Return self==value.\n",
      "     |  \n",
      "     |  __ge__(self, value, /)\n",
      "     |      Return self>=value.\n",
      "     |  \n",
      "     |  __getattribute__(self, name, /)\n",
      "     |      Return getattr(self, name).\n",
      "     |  \n",
      "     |  __getitem__(self, key, /)\n",
      "     |      Return self[key].\n",
      "     |  \n",
      "     |  __gt__(self, value, /)\n",
      "     |      Return self>value.\n",
      "     |  \n",
      "     |  __hash__(self, /)\n",
      "     |      Return hash(self).\n",
      "     |  \n",
      "     |  __iter__(self, /)\n",
      "     |      Implement iter(self).\n",
      "     |  \n",
      "     |  __le__(self, value, /)\n",
      "     |      Return self<=value.\n",
      "     |  \n",
      "     |  __len__(self, /)\n",
      "     |      Return len(self).\n",
      "     |  \n",
      "     |  __lt__(self, value, /)\n",
      "     |      Return self<value.\n",
      "     |  \n",
      "     |  __mul__(self, value, /)\n",
      "     |      Return self*value.n\n",
      "     |  \n",
      "     |  __ne__(self, value, /)\n",
      "     |      Return self!=value.\n",
      "     |  \n",
      "     |  __rmul__(self, value, /)\n",
      "     |      Return self*value.\n",
      "     |  \n",
      "     |  count(...)\n",
      "     |      T.count(value) -> integer -- return number of occurrences of value\n",
      "     |  \n",
      "     |  index(...)\n",
      "     |      T.index(value, [start, [stop]]) -> integer -- return first index of value.\n",
      "     |      Raises ValueError if the value is not present.\n",
      "     |  \n",
      "     |  ----------------------------------------------------------------------\n",
      "     |  Methods inherited from _ResultMixinBytes:\n",
      "     |  \n",
      "     |  decode(self, encoding='ascii', errors='strict')\n",
      "    \n",
      "    class ParseResult(ParseResult, _NetlocResultMixinStr)\n",
      "     |  ParseResult(scheme, netloc, path, params,  query, fragment)\n",
      "     |  \n",
      "     |  A 6-tuple that contains components of a parsed URL.\n",
      "     |  \n",
      "     |  Method resolution order:\n",
      "     |      ParseResult\n",
      "     |      ParseResult\n",
      "     |      builtins.tuple\n",
      "     |      _NetlocResultMixinStr\n",
      "     |      _NetlocResultMixinBase\n",
      "     |      _ResultMixinStr\n",
      "     |      builtins.object\n",
      "     |  \n",
      "     |  Methods defined here:\n",
      "     |  \n",
      "     |  geturl(self)\n",
      "     |  \n",
      "     |  ----------------------------------------------------------------------\n",
      "     |  Data and other attributes defined here:\n",
      "     |  \n",
      "     |  _encoded_counterpart = <class 'urllib.parse.ParseResultBytes'>\n",
      "     |      ParseResult(scheme, netloc, path, params,  query, fragment)\n",
      "     |      \n",
      "     |      A 6-tuple that contains components of a parsed URL.\n",
      "     |  \n",
      "     |  ----------------------------------------------------------------------\n",
      "     |  Methods inherited from ParseResult:\n",
      "     |  \n",
      "     |  __getnewargs__(self)\n",
      "     |      Return self as a plain tuple.  Used by copy and pickle.\n",
      "     |  \n",
      "     |  __repr__(self)\n",
      "     |      Return a nicely formatted representation string\n",
      "     |  \n",
      "     |  _asdict(self)\n",
      "     |      Return a new OrderedDict which maps field names to their values.\n",
      "     |  \n",
      "     |  _replace(_self, **kwds)\n",
      "     |      Return a new ParseResult object replacing specified fields with new values\n",
      "     |  \n",
      "     |  ----------------------------------------------------------------------\n",
      "     |  Class methods inherited from ParseResult:\n",
      "     |  \n",
      "     |  _make(iterable, new=<built-in method __new__ of type object at 0x000000005CDCC0D0>, len=<built-in function len>) from builtins.type\n",
      "     |      Make a new ParseResult object from a sequence or iterable\n",
      "     |  \n",
      "     |  ----------------------------------------------------------------------\n",
      "     |  Static methods inherited from ParseResult:\n",
      "     |  \n",
      "     |  __new__(_cls, scheme, netloc, path, params, query, fragment)\n",
      "     |      Create new instance of ParseResult(scheme, netloc, path, params, query, fragment)\n",
      "     |  \n",
      "     |  ----------------------------------------------------------------------\n",
      "     |  Data descriptors inherited from ParseResult:\n",
      "     |  \n",
      "     |  scheme\n",
      "     |      Specifies URL scheme for the request.\n",
      "     |  \n",
      "     |  netloc\n",
      "     |      Network location where the request is made to.\n",
      "     |  \n",
      "     |  path\n",
      "     |      The hierarchical path, such as the path to a file to download.\n",
      "     |  \n",
      "     |  params\n",
      "     |      Parameters for last path element used to dereference the URI in order to provide\n",
      "     |      access to perform some operation on the resource.\n",
      "     |  \n",
      "     |  query\n",
      "     |      The query component, that contains non-hierarchical data, that along with data\n",
      "     |      in path component, identifies a resource in the scope of URI's scheme and\n",
      "     |      network location.\n",
      "     |  \n",
      "     |  fragment\n",
      "     |      Fragment identifier, that allows indirect identification of a secondary resource\n",
      "     |      by reference to a primary resource and additional identifying information.\n",
      "     |  \n",
      "     |  ----------------------------------------------------------------------\n",
      "     |  Data and other attributes inherited from ParseResult:\n",
      "     |  \n",
      "     |  _fields = ('scheme', 'netloc', 'path', 'params', 'query', 'fragment')\n",
      "     |  \n",
      "     |  _source = \"from builtins import property as _property, tupl..._itemget...\n",
      "     |  \n",
      "     |  ----------------------------------------------------------------------\n",
      "     |  Methods inherited from builtins.tuple:\n",
      "     |  \n",
      "     |  __add__(self, value, /)\n",
      "     |      Return self+value.\n",
      "     |  \n",
      "     |  __contains__(self, key, /)\n",
      "     |      Return key in self.\n",
      "     |  \n",
      "     |  __eq__(self, value, /)\n",
      "     |      Return self==value.\n",
      "     |  \n",
      "     |  __ge__(self, value, /)\n",
      "     |      Return self>=value.\n",
      "     |  \n",
      "     |  __getattribute__(self, name, /)\n",
      "     |      Return getattr(self, name).\n",
      "     |  \n",
      "     |  __getitem__(self, key, /)\n",
      "     |      Return self[key].\n",
      "     |  \n",
      "     |  __gt__(self, value, /)\n",
      "     |      Return self>value.\n",
      "     |  \n",
      "     |  __hash__(self, /)\n",
      "     |      Return hash(self).\n",
      "     |  \n",
      "     |  __iter__(self, /)\n",
      "     |      Implement iter(self).\n",
      "     |  \n",
      "     |  __le__(self, value, /)\n",
      "     |      Return self<=value.\n",
      "     |  \n",
      "     |  __len__(self, /)\n",
      "     |      Return len(self).\n",
      "     |  \n",
      "     |  __lt__(self, value, /)\n",
      "     |      Return self<value.\n",
      "     |  \n",
      "     |  __mul__(self, value, /)\n",
      "     |      Return self*value.n\n",
      "     |  \n",
      "     |  __ne__(self, value, /)\n",
      "     |      Return self!=value.\n",
      "     |  \n",
      "     |  __rmul__(self, value, /)\n",
      "     |      Return self*value.\n",
      "     |  \n",
      "     |  count(...)\n",
      "     |      T.count(value) -> integer -- return number of occurrences of value\n",
      "     |  \n",
      "     |  index(...)\n",
      "     |      T.index(value, [start, [stop]]) -> integer -- return first index of value.\n",
      "     |      Raises ValueError if the value is not present.\n",
      "     |  \n",
      "     |  ----------------------------------------------------------------------\n",
      "     |  Data descriptors inherited from _NetlocResultMixinStr:\n",
      "     |  \n",
      "     |  _hostinfo\n",
      "     |  \n",
      "     |  _userinfo\n",
      "     |  \n",
      "     |  ----------------------------------------------------------------------\n",
      "     |  Data descriptors inherited from _NetlocResultMixinBase:\n",
      "     |  \n",
      "     |  hostname\n",
      "     |  \n",
      "     |  password\n",
      "     |  \n",
      "     |  port\n",
      "     |  \n",
      "     |  username\n",
      "     |  \n",
      "     |  ----------------------------------------------------------------------\n",
      "     |  Methods inherited from _ResultMixinStr:\n",
      "     |  \n",
      "     |  encode(self, encoding='ascii', errors='strict')\n",
      "    \n",
      "    class ParseResultBytes(ParseResult, _NetlocResultMixinBytes)\n",
      "     |  ParseResult(scheme, netloc, path, params,  query, fragment)\n",
      "     |  \n",
      "     |  A 6-tuple that contains components of a parsed URL.\n",
      "     |  \n",
      "     |  Method resolution order:\n",
      "     |      ParseResultBytes\n",
      "     |      ParseResult\n",
      "     |      builtins.tuple\n",
      "     |      _NetlocResultMixinBytes\n",
      "     |      _NetlocResultMixinBase\n",
      "     |      _ResultMixinBytes\n",
      "     |      builtins.object\n",
      "     |  \n",
      "     |  Methods defined here:\n",
      "     |  \n",
      "     |  geturl(self)\n",
      "     |  \n",
      "     |  ----------------------------------------------------------------------\n",
      "     |  Data and other attributes defined here:\n",
      "     |  \n",
      "     |  _decoded_counterpart = <class 'urllib.parse.ParseResult'>\n",
      "     |      ParseResult(scheme, netloc, path, params,  query, fragment)\n",
      "     |      \n",
      "     |      A 6-tuple that contains components of a parsed URL.\n",
      "     |  \n",
      "     |  ----------------------------------------------------------------------\n",
      "     |  Methods inherited from ParseResult:\n",
      "     |  \n",
      "     |  __getnewargs__(self)\n",
      "     |      Return self as a plain tuple.  Used by copy and pickle.\n",
      "     |  \n",
      "     |  __repr__(self)\n",
      "     |      Return a nicely formatted representation string\n",
      "     |  \n",
      "     |  _asdict(self)\n",
      "     |      Return a new OrderedDict which maps field names to their values.\n",
      "     |  \n",
      "     |  _replace(_self, **kwds)\n",
      "     |      Return a new ParseResult object replacing specified fields with new values\n",
      "     |  \n",
      "     |  ----------------------------------------------------------------------\n",
      "     |  Class methods inherited from ParseResult:\n",
      "     |  \n",
      "     |  _make(iterable, new=<built-in method __new__ of type object at 0x000000005CDCC0D0>, len=<built-in function len>) from builtins.type\n",
      "     |      Make a new ParseResult object from a sequence or iterable\n",
      "     |  \n",
      "     |  ----------------------------------------------------------------------\n",
      "     |  Static methods inherited from ParseResult:\n",
      "     |  \n",
      "     |  __new__(_cls, scheme, netloc, path, params, query, fragment)\n",
      "     |      Create new instance of ParseResult(scheme, netloc, path, params, query, fragment)\n",
      "     |  \n",
      "     |  ----------------------------------------------------------------------\n",
      "     |  Data descriptors inherited from ParseResult:\n",
      "     |  \n",
      "     |  scheme\n",
      "     |      Specifies URL scheme for the request.\n",
      "     |  \n",
      "     |  netloc\n",
      "     |      Network location where the request is made to.\n",
      "     |  \n",
      "     |  path\n",
      "     |      The hierarchical path, such as the path to a file to download.\n",
      "     |  \n",
      "     |  params\n",
      "     |      Parameters for last path element used to dereference the URI in order to provide\n",
      "     |      access to perform some operation on the resource.\n",
      "     |  \n",
      "     |  query\n",
      "     |      The query component, that contains non-hierarchical data, that along with data\n",
      "     |      in path component, identifies a resource in the scope of URI's scheme and\n",
      "     |      network location.\n",
      "     |  \n",
      "     |  fragment\n",
      "     |      Fragment identifier, that allows indirect identification of a secondary resource\n",
      "     |      by reference to a primary resource and additional identifying information.\n",
      "     |  \n",
      "     |  ----------------------------------------------------------------------\n",
      "     |  Data and other attributes inherited from ParseResult:\n",
      "     |  \n",
      "     |  _fields = ('scheme', 'netloc', 'path', 'params', 'query', 'fragment')\n",
      "     |  \n",
      "     |  _source = \"from builtins import property as _property, tupl..._itemget...\n",
      "     |  \n",
      "     |  ----------------------------------------------------------------------\n",
      "     |  Methods inherited from builtins.tuple:\n",
      "     |  \n",
      "     |  __add__(self, value, /)\n",
      "     |      Return self+value.\n",
      "     |  \n",
      "     |  __contains__(self, key, /)\n",
      "     |      Return key in self.\n",
      "     |  \n",
      "     |  __eq__(self, value, /)\n",
      "     |      Return self==value.\n",
      "     |  \n",
      "     |  __ge__(self, value, /)\n",
      "     |      Return self>=value.\n",
      "     |  \n",
      "     |  __getattribute__(self, name, /)\n",
      "     |      Return getattr(self, name).\n",
      "     |  \n",
      "     |  __getitem__(self, key, /)\n",
      "     |      Return self[key].\n",
      "     |  \n",
      "     |  __gt__(self, value, /)\n",
      "     |      Return self>value.\n",
      "     |  \n",
      "     |  __hash__(self, /)\n",
      "     |      Return hash(self).\n",
      "     |  \n",
      "     |  __iter__(self, /)\n",
      "     |      Implement iter(self).\n",
      "     |  \n",
      "     |  __le__(self, value, /)\n",
      "     |      Return self<=value.\n",
      "     |  \n",
      "     |  __len__(self, /)\n",
      "     |      Return len(self).\n",
      "     |  \n",
      "     |  __lt__(self, value, /)\n",
      "     |      Return self<value.\n",
      "     |  \n",
      "     |  __mul__(self, value, /)\n",
      "     |      Return self*value.n\n",
      "     |  \n",
      "     |  __ne__(self, value, /)\n",
      "     |      Return self!=value.\n",
      "     |  \n",
      "     |  __rmul__(self, value, /)\n",
      "     |      Return self*value.\n",
      "     |  \n",
      "     |  count(...)\n",
      "     |      T.count(value) -> integer -- return number of occurrences of value\n",
      "     |  \n",
      "     |  index(...)\n",
      "     |      T.index(value, [start, [stop]]) -> integer -- return first index of value.\n",
      "     |      Raises ValueError if the value is not present.\n",
      "     |  \n",
      "     |  ----------------------------------------------------------------------\n",
      "     |  Data descriptors inherited from _NetlocResultMixinBytes:\n",
      "     |  \n",
      "     |  _hostinfo\n",
      "     |  \n",
      "     |  _userinfo\n",
      "     |  \n",
      "     |  ----------------------------------------------------------------------\n",
      "     |  Data descriptors inherited from _NetlocResultMixinBase:\n",
      "     |  \n",
      "     |  hostname\n",
      "     |  \n",
      "     |  password\n",
      "     |  \n",
      "     |  port\n",
      "     |  \n",
      "     |  username\n",
      "     |  \n",
      "     |  ----------------------------------------------------------------------\n",
      "     |  Methods inherited from _ResultMixinBytes:\n",
      "     |  \n",
      "     |  decode(self, encoding='ascii', errors='strict')\n",
      "    \n",
      "    class SplitResult(SplitResult, _NetlocResultMixinStr)\n",
      "     |  SplitResult(scheme, netloc, path, query, fragment)\n",
      "     |  \n",
      "     |  A 5-tuple that contains the different components of a URL. Similar to\n",
      "     |  ParseResult, but does not split params.\n",
      "     |  \n",
      "     |  Method resolution order:\n",
      "     |      SplitResult\n",
      "     |      SplitResult\n",
      "     |      builtins.tuple\n",
      "     |      _NetlocResultMixinStr\n",
      "     |      _NetlocResultMixinBase\n",
      "     |      _ResultMixinStr\n",
      "     |      builtins.object\n",
      "     |  \n",
      "     |  Methods defined here:\n",
      "     |  \n",
      "     |  geturl(self)\n",
      "     |  \n",
      "     |  ----------------------------------------------------------------------\n",
      "     |  Data and other attributes defined here:\n",
      "     |  \n",
      "     |  _encoded_counterpart = <class 'urllib.parse.SplitResultBytes'>\n",
      "     |      SplitResult(scheme, netloc, path, query, fragment)\n",
      "     |      \n",
      "     |      A 5-tuple that contains the different components of a URL. Similar to\n",
      "     |      ParseResult, but does not split params.\n",
      "     |  \n",
      "     |  ----------------------------------------------------------------------\n",
      "     |  Methods inherited from SplitResult:\n",
      "     |  \n",
      "     |  __getnewargs__(self)\n",
      "     |      Return self as a plain tuple.  Used by copy and pickle.\n",
      "     |  \n",
      "     |  __repr__(self)\n",
      "     |      Return a nicely formatted representation string\n",
      "     |  \n",
      "     |  _asdict(self)\n",
      "     |      Return a new OrderedDict which maps field names to their values.\n",
      "     |  \n",
      "     |  _replace(_self, **kwds)\n",
      "     |      Return a new SplitResult object replacing specified fields with new values\n",
      "     |  \n",
      "     |  ----------------------------------------------------------------------\n",
      "     |  Class methods inherited from SplitResult:\n",
      "     |  \n",
      "     |  _make(iterable, new=<built-in method __new__ of type object at 0x000000005CDCC0D0>, len=<built-in function len>) from builtins.type\n",
      "     |      Make a new SplitResult object from a sequence or iterable\n",
      "     |  \n",
      "     |  ----------------------------------------------------------------------\n",
      "     |  Static methods inherited from SplitResult:\n",
      "     |  \n",
      "     |  __new__(_cls, scheme, netloc, path, query, fragment)\n",
      "     |      Create new instance of SplitResult(scheme, netloc, path, query, fragment)\n",
      "     |  \n",
      "     |  ----------------------------------------------------------------------\n",
      "     |  Data descriptors inherited from SplitResult:\n",
      "     |  \n",
      "     |  scheme\n",
      "     |      Specifies URL scheme for the request.\n",
      "     |  \n",
      "     |  netloc\n",
      "     |      Network location where the request is made to.\n",
      "     |  \n",
      "     |  path\n",
      "     |      The hierarchical path, such as the path to a file to download.\n",
      "     |  \n",
      "     |  query\n",
      "     |      The query component, that contains non-hierarchical data, that along with data\n",
      "     |      in path component, identifies a resource in the scope of URI's scheme and\n",
      "     |      network location.\n",
      "     |  \n",
      "     |  fragment\n",
      "     |      Fragment identifier, that allows indirect identification of a secondary resource\n",
      "     |      by reference to a primary resource and additional identifying information.\n",
      "     |  \n",
      "     |  ----------------------------------------------------------------------\n",
      "     |  Data and other attributes inherited from SplitResult:\n",
      "     |  \n",
      "     |  _fields = ('scheme', 'netloc', 'path', 'query', 'fragment')\n",
      "     |  \n",
      "     |  _source = \"from builtins import property as _property, tupl..._itemget...\n",
      "     |  \n",
      "     |  ----------------------------------------------------------------------\n",
      "     |  Methods inherited from builtins.tuple:\n",
      "     |  \n",
      "     |  __add__(self, value, /)\n",
      "     |      Return self+value.\n",
      "     |  \n",
      "     |  __contains__(self, key, /)\n",
      "     |      Return key in self.\n",
      "     |  \n",
      "     |  __eq__(self, value, /)\n",
      "     |      Return self==value.\n",
      "     |  \n",
      "     |  __ge__(self, value, /)\n",
      "     |      Return self>=value.\n",
      "     |  \n",
      "     |  __getattribute__(self, name, /)\n",
      "     |      Return getattr(self, name).\n",
      "     |  \n",
      "     |  __getitem__(self, key, /)\n",
      "     |      Return self[key].\n",
      "     |  \n",
      "     |  __gt__(self, value, /)\n",
      "     |      Return self>value.\n",
      "     |  \n",
      "     |  __hash__(self, /)\n",
      "     |      Return hash(self).\n",
      "     |  \n",
      "     |  __iter__(self, /)\n",
      "     |      Implement iter(self).\n",
      "     |  \n",
      "     |  __le__(self, value, /)\n",
      "     |      Return self<=value.\n",
      "     |  \n",
      "     |  __len__(self, /)\n",
      "     |      Return len(self).\n",
      "     |  \n",
      "     |  __lt__(self, value, /)\n",
      "     |      Return self<value.\n",
      "     |  \n",
      "     |  __mul__(self, value, /)\n",
      "     |      Return self*value.n\n",
      "     |  \n",
      "     |  __ne__(self, value, /)\n",
      "     |      Return self!=value.\n",
      "     |  \n",
      "     |  __rmul__(self, value, /)\n",
      "     |      Return self*value.\n",
      "     |  \n",
      "     |  count(...)\n",
      "     |      T.count(value) -> integer -- return number of occurrences of value\n",
      "     |  \n",
      "     |  index(...)\n",
      "     |      T.index(value, [start, [stop]]) -> integer -- return first index of value.\n",
      "     |      Raises ValueError if the value is not present.\n",
      "     |  \n",
      "     |  ----------------------------------------------------------------------\n",
      "     |  Data descriptors inherited from _NetlocResultMixinStr:\n",
      "     |  \n",
      "     |  _hostinfo\n",
      "     |  \n",
      "     |  _userinfo\n",
      "     |  \n",
      "     |  ----------------------------------------------------------------------\n",
      "     |  Data descriptors inherited from _NetlocResultMixinBase:\n",
      "     |  \n",
      "     |  hostname\n",
      "     |  \n",
      "     |  password\n",
      "     |  \n",
      "     |  port\n",
      "     |  \n",
      "     |  username\n",
      "     |  \n",
      "     |  ----------------------------------------------------------------------\n",
      "     |  Methods inherited from _ResultMixinStr:\n",
      "     |  \n",
      "     |  encode(self, encoding='ascii', errors='strict')\n",
      "    \n",
      "    class SplitResultBytes(SplitResult, _NetlocResultMixinBytes)\n",
      "     |  SplitResult(scheme, netloc, path, query, fragment)\n",
      "     |  \n",
      "     |  A 5-tuple that contains the different components of a URL. Similar to\n",
      "     |  ParseResult, but does not split params.\n",
      "     |  \n",
      "     |  Method resolution order:\n",
      "     |      SplitResultBytes\n",
      "     |      SplitResult\n",
      "     |      builtins.tuple\n",
      "     |      _NetlocResultMixinBytes\n",
      "     |      _NetlocResultMixinBase\n",
      "     |      _ResultMixinBytes\n",
      "     |      builtins.object\n",
      "     |  \n",
      "     |  Methods defined here:\n",
      "     |  \n",
      "     |  geturl(self)\n",
      "     |  \n",
      "     |  ----------------------------------------------------------------------\n",
      "     |  Data and other attributes defined here:\n",
      "     |  \n",
      "     |  _decoded_counterpart = <class 'urllib.parse.SplitResult'>\n",
      "     |      SplitResult(scheme, netloc, path, query, fragment)\n",
      "     |      \n",
      "     |      A 5-tuple that contains the different components of a URL. Similar to\n",
      "     |      ParseResult, but does not split params.\n",
      "     |  \n",
      "     |  ----------------------------------------------------------------------\n",
      "     |  Methods inherited from SplitResult:\n",
      "     |  \n",
      "     |  __getnewargs__(self)\n",
      "     |      Return self as a plain tuple.  Used by copy and pickle.\n",
      "     |  \n",
      "     |  __repr__(self)\n",
      "     |      Return a nicely formatted representation string\n",
      "     |  \n",
      "     |  _asdict(self)\n",
      "     |      Return a new OrderedDict which maps field names to their values.\n",
      "     |  \n",
      "     |  _replace(_self, **kwds)\n",
      "     |      Return a new SplitResult object replacing specified fields with new values\n",
      "     |  \n",
      "     |  ----------------------------------------------------------------------\n",
      "     |  Class methods inherited from SplitResult:\n",
      "     |  \n",
      "     |  _make(iterable, new=<built-in method __new__ of type object at 0x000000005CDCC0D0>, len=<built-in function len>) from builtins.type\n",
      "     |      Make a new SplitResult object from a sequence or iterable\n",
      "     |  \n",
      "     |  ----------------------------------------------------------------------\n",
      "     |  Static methods inherited from SplitResult:\n",
      "     |  \n",
      "     |  __new__(_cls, scheme, netloc, path, query, fragment)\n",
      "     |      Create new instance of SplitResult(scheme, netloc, path, query, fragment)\n",
      "     |  \n",
      "     |  ----------------------------------------------------------------------\n",
      "     |  Data descriptors inherited from SplitResult:\n",
      "     |  \n",
      "     |  scheme\n",
      "     |      Specifies URL scheme for the request.\n",
      "     |  \n",
      "     |  netloc\n",
      "     |      Network location where the request is made to.\n",
      "     |  \n",
      "     |  path\n",
      "     |      The hierarchical path, such as the path to a file to download.\n",
      "     |  \n",
      "     |  query\n",
      "     |      The query component, that contains non-hierarchical data, that along with data\n",
      "     |      in path component, identifies a resource in the scope of URI's scheme and\n",
      "     |      network location.\n",
      "     |  \n",
      "     |  fragment\n",
      "     |      Fragment identifier, that allows indirect identification of a secondary resource\n",
      "     |      by reference to a primary resource and additional identifying information.\n",
      "     |  \n",
      "     |  ----------------------------------------------------------------------\n",
      "     |  Data and other attributes inherited from SplitResult:\n",
      "     |  \n",
      "     |  _fields = ('scheme', 'netloc', 'path', 'query', 'fragment')\n",
      "     |  \n",
      "     |  _source = \"from builtins import property as _property, tupl..._itemget...\n",
      "     |  \n",
      "     |  ----------------------------------------------------------------------\n",
      "     |  Methods inherited from builtins.tuple:\n",
      "     |  \n",
      "     |  __add__(self, value, /)\n",
      "     |      Return self+value.\n",
      "     |  \n",
      "     |  __contains__(self, key, /)\n",
      "     |      Return key in self.\n",
      "     |  \n",
      "     |  __eq__(self, value, /)\n",
      "     |      Return self==value.\n",
      "     |  \n",
      "     |  __ge__(self, value, /)\n",
      "     |      Return self>=value.\n",
      "     |  \n",
      "     |  __getattribute__(self, name, /)\n",
      "     |      Return getattr(self, name).\n",
      "     |  \n",
      "     |  __getitem__(self, key, /)\n",
      "     |      Return self[key].\n",
      "     |  \n",
      "     |  __gt__(self, value, /)\n",
      "     |      Return self>value.\n",
      "     |  \n",
      "     |  __hash__(self, /)\n",
      "     |      Return hash(self).\n",
      "     |  \n",
      "     |  __iter__(self, /)\n",
      "     |      Implement iter(self).\n",
      "     |  \n",
      "     |  __le__(self, value, /)\n",
      "     |      Return self<=value.\n",
      "     |  \n",
      "     |  __len__(self, /)\n",
      "     |      Return len(self).\n",
      "     |  \n",
      "     |  __lt__(self, value, /)\n",
      "     |      Return self<value.\n",
      "     |  \n",
      "     |  __mul__(self, value, /)\n",
      "     |      Return self*value.n\n",
      "     |  \n",
      "     |  __ne__(self, value, /)\n",
      "     |      Return self!=value.\n",
      "     |  \n",
      "     |  __rmul__(self, value, /)\n",
      "     |      Return self*value.\n",
      "     |  \n",
      "     |  count(...)\n",
      "     |      T.count(value) -> integer -- return number of occurrences of value\n",
      "     |  \n",
      "     |  index(...)\n",
      "     |      T.index(value, [start, [stop]]) -> integer -- return first index of value.\n",
      "     |      Raises ValueError if the value is not present.\n",
      "     |  \n",
      "     |  ----------------------------------------------------------------------\n",
      "     |  Data descriptors inherited from _NetlocResultMixinBytes:\n",
      "     |  \n",
      "     |  _hostinfo\n",
      "     |  \n",
      "     |  _userinfo\n",
      "     |  \n",
      "     |  ----------------------------------------------------------------------\n",
      "     |  Data descriptors inherited from _NetlocResultMixinBase:\n",
      "     |  \n",
      "     |  hostname\n",
      "     |  \n",
      "     |  password\n",
      "     |  \n",
      "     |  port\n",
      "     |  \n",
      "     |  username\n",
      "     |  \n",
      "     |  ----------------------------------------------------------------------\n",
      "     |  Methods inherited from _ResultMixinBytes:\n",
      "     |  \n",
      "     |  decode(self, encoding='ascii', errors='strict')\n",
      "\n",
      "FUNCTIONS\n",
      "    parse_qs(qs, keep_blank_values=False, strict_parsing=False, encoding='utf-8', errors='replace')\n",
      "        Parse a query given as a string argument.\n",
      "        \n",
      "        Arguments:\n",
      "        \n",
      "        qs: percent-encoded query string to be parsed\n",
      "        \n",
      "        keep_blank_values: flag indicating whether blank values in\n",
      "            percent-encoded queries should be treated as blank strings.\n",
      "            A true value indicates that blanks should be retained as\n",
      "            blank strings.  The default false value indicates that\n",
      "            blank values are to be ignored and treated as if they were\n",
      "            not included.\n",
      "        \n",
      "        strict_parsing: flag indicating what to do with parsing errors.\n",
      "            If false (the default), errors are silently ignored.\n",
      "            If true, errors raise a ValueError exception.\n",
      "        \n",
      "        encoding and errors: specify how to decode percent-encoded sequences\n",
      "            into Unicode characters, as accepted by the bytes.decode() method.\n",
      "        \n",
      "        Returns a dictionary.\n",
      "    \n",
      "    parse_qsl(qs, keep_blank_values=False, strict_parsing=False, encoding='utf-8', errors='replace')\n",
      "        Parse a query given as a string argument.\n",
      "        \n",
      "        Arguments:\n",
      "        \n",
      "        qs: percent-encoded query string to be parsed\n",
      "        \n",
      "        keep_blank_values: flag indicating whether blank values in\n",
      "            percent-encoded queries should be treated as blank strings.\n",
      "            A true value indicates that blanks should be retained as blank\n",
      "            strings.  The default false value indicates that blank values\n",
      "            are to be ignored and treated as if they were  not included.\n",
      "        \n",
      "        strict_parsing: flag indicating what to do with parsing errors. If\n",
      "            false (the default), errors are silently ignored. If true,\n",
      "            errors raise a ValueError exception.\n",
      "        \n",
      "        encoding and errors: specify how to decode percent-encoded sequences\n",
      "            into Unicode characters, as accepted by the bytes.decode() method.\n",
      "        \n",
      "        Returns a list, as G-d intended.\n",
      "    \n",
      "    quote(string, safe='/', encoding=None, errors=None)\n",
      "        quote('abc def') -> 'abc%20def'\n",
      "        \n",
      "        Each part of a URL, e.g. the path info, the query, etc., has a\n",
      "        different set of reserved characters that must be quoted.\n",
      "        \n",
      "        RFC 2396 Uniform Resource Identifiers (URI): Generic Syntax lists\n",
      "        the following reserved characters.\n",
      "        \n",
      "        reserved    = \";\" | \"/\" | \"?\" | \":\" | \"@\" | \"&\" | \"=\" | \"+\" |\n",
      "                      \"$\" | \",\"\n",
      "        \n",
      "        Each of these characters is reserved in some component of a URL,\n",
      "        but not necessarily in all of them.\n",
      "        \n",
      "        By default, the quote function is intended for quoting the path\n",
      "        section of a URL.  Thus, it will not encode '/'.  This character\n",
      "        is reserved, but in typical usage the quote function is being\n",
      "        called on a path where the existing slash characters are used as\n",
      "        reserved characters.\n",
      "        \n",
      "        string and safe may be either str or bytes objects. encoding and errors\n",
      "        must not be specified if string is a bytes object.\n",
      "        \n",
      "        The optional encoding and errors parameters specify how to deal with\n",
      "        non-ASCII characters, as accepted by the str.encode method.\n",
      "        By default, encoding='utf-8' (characters are encoded with UTF-8), and\n",
      "        errors='strict' (unsupported characters raise a UnicodeEncodeError).\n",
      "    \n",
      "    quote_from_bytes(bs, safe='/')\n",
      "        Like quote(), but accepts a bytes object rather than a str, and does\n",
      "        not perform string-to-bytes encoding.  It always returns an ASCII string.\n",
      "        quote_from_bytes(b'abc def?') -> 'abc%20def%3f'\n",
      "    \n",
      "    quote_plus(string, safe='', encoding=None, errors=None)\n",
      "        Like quote(), but also replace ' ' with '+', as required for quoting\n",
      "        HTML form values. Plus signs in the original string are escaped unless\n",
      "        they are included in safe. It also does not have safe default to '/'.\n",
      "    \n",
      "    unquote(string, encoding='utf-8', errors='replace')\n",
      "        Replace %xx escapes by their single-character equivalent. The optional\n",
      "        encoding and errors parameters specify how to decode percent-encoded\n",
      "        sequences into Unicode characters, as accepted by the bytes.decode()\n",
      "        method.\n",
      "        By default, percent-encoded sequences are decoded with UTF-8, and invalid\n",
      "        sequences are replaced by a placeholder character.\n",
      "        \n",
      "        unquote('abc%20def') -> 'abc def'.\n",
      "    \n",
      "    unquote_plus(string, encoding='utf-8', errors='replace')\n",
      "        Like unquote(), but also replace plus signs by spaces, as required for\n",
      "        unquoting HTML form values.\n",
      "        \n",
      "        unquote_plus('%7e/abc+def') -> '~/abc def'\n",
      "    \n",
      "    unquote_to_bytes(string)\n",
      "        unquote_to_bytes('abc%20def') -> b'abc def'.\n",
      "    \n",
      "    urldefrag(url)\n",
      "        Removes any existing fragment from URL.\n",
      "        \n",
      "        Returns a tuple of the defragmented URL and the fragment.  If\n",
      "        the URL contained no fragments, the second element is the\n",
      "        empty string.\n",
      "    \n",
      "    urlencode(query, doseq=False, safe='', encoding=None, errors=None, quote_via=<function quote_plus at 0x0000024E56DF26A8>)\n",
      "        Encode a dict or sequence of two-element tuples into a URL query string.\n",
      "        \n",
      "        If any values in the query arg are sequences and doseq is true, each\n",
      "        sequence element is converted to a separate parameter.\n",
      "        \n",
      "        If the query arg is a sequence of two-element tuples, the order of the\n",
      "        parameters in the output will match the order of parameters in the\n",
      "        input.\n",
      "        \n",
      "        The components of a query arg may each be either a string or a bytes type.\n",
      "        \n",
      "        The safe, encoding, and errors parameters are passed down to the function\n",
      "        specified by quote_via (encoding and errors only if a component is a str).\n",
      "    \n",
      "    urljoin(base, url, allow_fragments=True)\n",
      "        Join a base URL and a possibly relative URL to form an absolute\n",
      "        interpretation of the latter.\n",
      "    \n",
      "    urlparse(url, scheme='', allow_fragments=True)\n",
      "        Parse a URL into 6 components:\n",
      "        <scheme>://<netloc>/<path>;<params>?<query>#<fragment>\n",
      "        Return a 6-tuple: (scheme, netloc, path, params, query, fragment).\n",
      "        Note that we don't break the components up in smaller bits\n",
      "        (e.g. netloc is a single string) and we don't expand % escapes.\n",
      "    \n",
      "    urlsplit(url, scheme='', allow_fragments=True)\n",
      "        Parse a URL into 5 components:\n",
      "        <scheme>://<netloc>/<path>?<query>#<fragment>\n",
      "        Return a 5-tuple: (scheme, netloc, path, query, fragment).\n",
      "        Note that we don't break the components up in smaller bits\n",
      "        (e.g. netloc is a single string) and we don't expand % escapes.\n",
      "    \n",
      "    urlunparse(components)\n",
      "        Put a parsed URL back together again.  This may result in a\n",
      "        slightly different, but equivalent URL, if the URL that was parsed\n",
      "        originally had redundant delimiters, e.g. a ? with an empty query\n",
      "        (the draft states that these are equivalent).\n",
      "    \n",
      "    urlunsplit(components)\n",
      "        Combine the elements of a tuple as returned by urlsplit() into a\n",
      "        complete URL as a string. The data argument can be any five-item iterable.\n",
      "        This may result in a slightly different, but equivalent URL, if the URL that\n",
      "        was parsed originally had unnecessary delimiters (for example, a ? with an\n",
      "        empty query; the RFC states that these are equivalent).\n",
      "\n",
      "DATA\n",
      "    __all__ = ['urlparse', 'urlunparse', 'urljoin', 'urldefrag', 'urlsplit...\n",
      "\n",
      "FILE\n",
      "    c:\\users\\jtownson\\appdata\\local\\continuum\\anaconda3\\lib\\urllib\\parse.py\n",
      "\n",
      "\n"
     ]
    }
   ],
   "source": [
    "help(urllib.parse)"
   ]
  },
  {
   "cell_type": "markdown",
   "metadata": {},
   "source": [
    "#### Writing Packages\n",
    "\n",
    "Packages are namespaces which contain multiple packages and modules themselves. They are simply directories, but with a twist.\n",
    "\n",
    "Each package in Python is a directory which **MUST** contain a special file called `__init__.py`. This file can be empty, and it indicates that the directory it contains is a Python package, so it can be imported the same way a module can be imported.\n",
    "\n",
    "If we create a directory called `foo`, which marks the package name, we can then create a module inside that package called bar. We also must not forget to add the `__init__.py` file inside the `foo` directory.\n",
    "\n",
    "To use the module bar, we can import it in two ways:"
   ]
  },
  {
   "cell_type": "code",
   "execution_count": 12,
   "metadata": {},
   "outputs": [],
   "source": [
    "#import foo.bar\n",
    "## or\n",
    "#from foo import bar"
   ]
  },
  {
   "cell_type": "markdown",
   "metadata": {},
   "source": [
    "In the first method, we must use the `foo` prefix whenever we access the module `bar`. In the second method, we don't, because we import the module to our module's namespace.\n",
    "\n",
    "The `__init__.py` file can also decide which modules the package exports as the API, while keeping other modules internal, by overriding the `__all__` variable, like so:"
   ]
  },
  {
   "cell_type": "code",
   "execution_count": 14,
   "metadata": {},
   "outputs": [],
   "source": [
    "#__init__.py:\n",
    "\n",
    "#__all__ = [\"bar\"]"
   ]
  },
  {
   "cell_type": "markdown",
   "metadata": {},
   "source": [
    "#### Exercise\n",
    "\n",
    "Whoo, that was a doozy. But we made it! Now we just need to solve this problem:\n",
    "\n",
    "In this exercise, you will need to print an alphabetically sorted list of all functions in the `re` module, which contain the word `find`. The solution will be in the second code cell below."
   ]
  },
  {
   "cell_type": "code",
   "execution_count": 15,
   "metadata": {},
   "outputs": [],
   "source": [
    "import re\n",
    "\n",
    "# Your code goes here"
   ]
  },
  {
   "cell_type": "code",
   "execution_count": 16,
   "metadata": {},
   "outputs": [
    {
     "name": "stdout",
     "output_type": "stream",
     "text": [
      "['findall', 'finditer']\n"
     ]
    }
   ],
   "source": [
    "import re\n",
    "\n",
    "# Your code goes here\n",
    "find_members = []\n",
    "for member in dir(re):\n",
    "    if \"find\" in member:\n",
    "        find_members.append(member)\n",
    "\n",
    "print(sorted(find_members))"
   ]
  },
  {
   "cell_type": "markdown",
   "metadata": {},
   "source": [
    "### Concluding the Basics\n",
    "\n",
    "And with that we made it all the way through the basic tutorials from the learnpython.org website. We've covered quite a bit! Before heading any further deep into the world of Python coding, I strongly recommend going back and checking anything you were hesitant on. I know that helped me out greatly. \n",
    "\n",
    "Some may find this to be enough, and that's great! You made it! But for me, I will be diving deeper and checking out the next section about Data Science. Feel free to follow along and I'll continue writing as I have!\n",
    "\n",
    "## Data Science Tutorials\n",
    "\n",
    "### Numpy Arrays\n",
    "\n",
    "Numpy arrays are an alternative to Python Lists. In general, these arrays are faster, and easier to work with in general than generic python lists. One of the key features is that they give the user the ability to perform calculations across the entirety of the arrays.\n",
    "\n",
    "In the below example, we create two Python lists. Then after importing the Numpy package, we create Numpy arrays out of the lists we made. "
   ]
  },
  {
   "cell_type": "code",
   "execution_count": 17,
   "metadata": {},
   "outputs": [
    {
     "name": "stdout",
     "output_type": "stream",
     "text": [
      "<class 'numpy.ndarray'>\n",
      "[1.87 1.87 1.82 1.91 1.9  1.85]\n"
     ]
    }
   ],
   "source": [
    "# Create 2 new lists height and weight\n",
    "height = [1.87,  1.87, 1.82, 1.91, 1.90, 1.85]\n",
    "weight = [81.65, 97.52, 95.25, 92.98, 86.18, 88.45]\n",
    "\n",
    "# Import the numpy package as np\n",
    "import numpy as np\n",
    "\n",
    "# Create 2 numpy arrays from height and weight\n",
    "np_height = np.array(height)\n",
    "np_weight = np.array(weight)\n",
    "\n",
    "print(type(np_height))\n",
    "print(np_height)"
   ]
  },
  {
   "cell_type": "markdown",
   "metadata": {},
   "source": [
    "Notice that the type of the object may have changed from a list to a numpy.ndarray, but when printing the array out itself it doesn't look any different. All of the changes have been done in the background to make it simpler for the user.\n",
    "\n",
    "#### Element-wise Calculations\n",
    "\n",
    "Now that we have our height and weight arrays, we can perform element-wise calculations on them. For example, unlike the complexity of lists, using our Numpy arrays we can take all 6 of the height and weight observations above and calculate the BMI for each observation with a single equation. This operation will be much quicker than if we used lists, and more computationally efficient. This efficiency is even more handy when we have 1000s or more observations in our data."
   ]
  },
  {
   "cell_type": "code",
   "execution_count": 25,
   "metadata": {},
   "outputs": [
    {
     "name": "stdout",
     "output_type": "stream",
     "text": [
      "[23.34925219 27.88755755 28.75558507 25.48723993 23.87257618 25.84368152]\n"
     ]
    }
   ],
   "source": [
    "# Calculate bmi\n",
    "bmi = np_weight / (np_height ** 2)\n",
    "\n",
    "# Print the result\n",
    "print(bmi)"
   ]
  },
  {
   "cell_type": "markdown",
   "metadata": {},
   "source": [
    "#### Subsetting\n",
    "\n",
    "Another great feature of Numpy arrays is the ability to subset. For instance, if you wanted to know which observations in our BMI array are above 25, we could quickly subset it to find out."
   ]
  },
  {
   "cell_type": "code",
   "execution_count": 32,
   "metadata": {},
   "outputs": [
    {
     "name": "stdout",
     "output_type": "stream",
     "text": [
      "[27.88755755 28.75558507 25.48723993 25.84368152]\n",
      "[False  True  True  True False  True]\n"
     ]
    }
   ],
   "source": [
    "# For a boolean response\n",
    "bmi > 25\n",
    "\n",
    "# Print only those observations above 23\n",
    "print(bmi[bmi > 25])\n",
    "\n",
    "# here's what the Boolean response looks like:\n",
    "print(bmi > 25)"
   ]
  },
  {
   "cell_type": "markdown",
   "metadata": {},
   "source": [
    "#### Exercise\n",
    "\n",
    "First, convert the list of weights from a list to a Numpy array. Then, convert all of the weights from kilograms to pounds. Use the scalar conversion of 2.2 lbs per kilogram to make your conversion. Lastly, print the resulting array of weights in pounds. The solution is in the second cell below."
   ]
  },
  {
   "cell_type": "code",
   "execution_count": 33,
   "metadata": {},
   "outputs": [],
   "source": [
    "weight_kg = [81.65, 97.52, 95.25, 92.98, 86.18, 88.45]\n",
    "\n",
    "import numpy as np\n",
    "\n",
    "# Create a numpy array np_weight_kg from weight_kg\n",
    "    \n",
    "\n",
    "# Create np_weight_lbs from np_weight_kg\n",
    "\n",
    "# Print out np_weight_lbs"
   ]
  },
  {
   "cell_type": "code",
   "execution_count": 35,
   "metadata": {},
   "outputs": [
    {
     "name": "stdout",
     "output_type": "stream",
     "text": [
      "[179.63  214.544 209.55  204.556 189.596 194.59 ]\n"
     ]
    }
   ],
   "source": [
    "weight_kg = [81.65, 97.52, 95.25, 92.98, 86.18, 88.45]\n",
    "\n",
    "import numpy as np\n",
    "\n",
    "# Create a numpy array np_weight_kg from weight_kg\n",
    "    \n",
    "np_weight_kg = np.array(weight_kg)\n",
    "\n",
    "# Create np_weight_lbs from np_weight_kg\n",
    "\n",
    "np_weight_lbs = np_weight_kg * 2.2\n",
    "\n",
    "# Print out np_weight_lbs\n",
    "\n",
    "print(np_weight_lbs)"
   ]
  },
  {
   "cell_type": "markdown",
   "metadata": {},
   "source": [
    "### Pandas Basics\n",
    "\n",
    "This section will be very important, as Pandas is what any Python user in data science crutches on. Like `plyr` and `dplyr` in R, Pandas lets Python users easily get and clean data, among other things. Pandas is a high-level data manipulation tool developed by Wes McKinney. It is built on the Numpy package and its key data structure is called the DataFrame.\n",
    "\n",
    "#### Pandas DataFrames\n",
    "\n",
    "DataFrames allow you to store and manipulate tabular data in rows of observations and columns of variables (just like dataframes in R but less cool). There are several ways to create a DataFrame. One way way is to use a dictionary. For example:"
   ]
  },
  {
   "cell_type": "code",
   "execution_count": 36,
   "metadata": {},
   "outputs": [
    {
     "name": "stdout",
     "output_type": "stream",
     "text": [
      "        country    capital    area  population\n",
      "0        Brazil   Brasilia   8.516      200.40\n",
      "1        Russia     Moscow  17.100      143.50\n",
      "2         India  New Dehli   3.286     1252.00\n",
      "3         China    Beijing   9.597     1357.00\n",
      "4  South Africa   Pretoria   1.221       52.98\n"
     ]
    }
   ],
   "source": [
    "dict = {\"country\": [\"Brazil\", \"Russia\", \"India\", \"China\", \"South Africa\"],\n",
    "       \"capital\": [\"Brasilia\", \"Moscow\", \"New Dehli\", \"Beijing\", \"Pretoria\"],\n",
    "       \"area\": [8.516, 17.10, 3.286, 9.597, 1.221],\n",
    "       \"population\": [200.4, 143.5, 1252, 1357, 52.98] }\n",
    "\n",
    "import pandas as pd\n",
    "brics = pd.DataFrame(dict)\n",
    "print(brics)"
   ]
  },
  {
   "cell_type": "code",
   "execution_count": null,
   "metadata": {},
   "outputs": [],
   "source": []
  }
 ],
 "metadata": {
  "kernelspec": {
   "display_name": "Python 3",
   "language": "python",
   "name": "python3"
  },
  "language_info": {
   "codemirror_mode": {
    "name": "ipython",
    "version": 3
   },
   "file_extension": ".py",
   "mimetype": "text/x-python",
   "name": "python",
   "nbconvert_exporter": "python",
   "pygments_lexer": "ipython3",
   "version": "3.6.4"
  }
 },
 "nbformat": 4,
 "nbformat_minor": 2
}
